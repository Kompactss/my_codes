{
  "metadata": {
    "kernelspec": {
      "language": "python",
      "display_name": "Python 3",
      "name": "python3"
    },
    "language_info": {
      "pygments_lexer": "ipython3",
      "nbconvert_exporter": "python",
      "version": "3.6.4",
      "file_extension": ".py",
      "codemirror_mode": {
        "name": "ipython",
        "version": 3
      },
      "name": "python",
      "mimetype": "text/x-python"
    },
    "colab": {
      "name": "baseline-code-colab(0.98700, 22.03.29).ipynb",
      "provenance": [],
      "collapsed_sections": [],
      "machine_shape": "hm",
      "background_execution": "on",
      "include_colab_link": true
    },
    "accelerator": "GPU",
    "widgets": {
      "application/vnd.jupyter.widget-state+json": {
        "7a69b097252247829639f0d79de576f2": {
          "model_module": "@jupyter-widgets/controls",
          "model_name": "HBoxModel",
          "model_module_version": "1.5.0",
          "state": {
            "_dom_classes": [],
            "_model_module": "@jupyter-widgets/controls",
            "_model_module_version": "1.5.0",
            "_model_name": "HBoxModel",
            "_view_count": null,
            "_view_module": "@jupyter-widgets/controls",
            "_view_module_version": "1.5.0",
            "_view_name": "HBoxView",
            "box_style": "",
            "children": [
              "IPY_MODEL_04fce1015c7b48e5a10175dd6c680028",
              "IPY_MODEL_3353b5f917274514a523601ec3fd4d40",
              "IPY_MODEL_932f7a6ff881431ebad2ffbb34611fc9"
            ],
            "layout": "IPY_MODEL_bc2d2acfae6f422b835e568c4916345f"
          }
        },
        "04fce1015c7b48e5a10175dd6c680028": {
          "model_module": "@jupyter-widgets/controls",
          "model_name": "HTMLModel",
          "model_module_version": "1.5.0",
          "state": {
            "_dom_classes": [],
            "_model_module": "@jupyter-widgets/controls",
            "_model_module_version": "1.5.0",
            "_model_name": "HTMLModel",
            "_view_count": null,
            "_view_module": "@jupyter-widgets/controls",
            "_view_module_version": "1.5.0",
            "_view_name": "HTMLView",
            "description": "",
            "description_tooltip": null,
            "layout": "IPY_MODEL_1e034563689543788499570a6c1ca94f",
            "placeholder": "​",
            "style": "IPY_MODEL_d2e1e287124b465f81bae9a7b02dfa6a",
            "value": "Downloading: 100%"
          }
        },
        "3353b5f917274514a523601ec3fd4d40": {
          "model_module": "@jupyter-widgets/controls",
          "model_name": "FloatProgressModel",
          "model_module_version": "1.5.0",
          "state": {
            "_dom_classes": [],
            "_model_module": "@jupyter-widgets/controls",
            "_model_module_version": "1.5.0",
            "_model_name": "FloatProgressModel",
            "_view_count": null,
            "_view_module": "@jupyter-widgets/controls",
            "_view_module_version": "1.5.0",
            "_view_name": "ProgressView",
            "bar_style": "success",
            "description": "",
            "description_tooltip": null,
            "layout": "IPY_MODEL_711214bb045b441ba42ed7cfba32130e",
            "max": 231508,
            "min": 0,
            "orientation": "horizontal",
            "style": "IPY_MODEL_defd2e39479f4a578e715bf0336b1540",
            "value": 231508
          }
        },
        "932f7a6ff881431ebad2ffbb34611fc9": {
          "model_module": "@jupyter-widgets/controls",
          "model_name": "HTMLModel",
          "model_module_version": "1.5.0",
          "state": {
            "_dom_classes": [],
            "_model_module": "@jupyter-widgets/controls",
            "_model_module_version": "1.5.0",
            "_model_name": "HTMLModel",
            "_view_count": null,
            "_view_module": "@jupyter-widgets/controls",
            "_view_module_version": "1.5.0",
            "_view_name": "HTMLView",
            "description": "",
            "description_tooltip": null,
            "layout": "IPY_MODEL_afd72f5dba434010ae1fb66b92abb206",
            "placeholder": "​",
            "style": "IPY_MODEL_5fd6cae61385478bb64e7a2a0d3523b8",
            "value": " 226k/226k [00:00&lt;00:00, 579kB/s]"
          }
        },
        "bc2d2acfae6f422b835e568c4916345f": {
          "model_module": "@jupyter-widgets/base",
          "model_name": "LayoutModel",
          "model_module_version": "1.2.0",
          "state": {
            "_model_module": "@jupyter-widgets/base",
            "_model_module_version": "1.2.0",
            "_model_name": "LayoutModel",
            "_view_count": null,
            "_view_module": "@jupyter-widgets/base",
            "_view_module_version": "1.2.0",
            "_view_name": "LayoutView",
            "align_content": null,
            "align_items": null,
            "align_self": null,
            "border": null,
            "bottom": null,
            "display": null,
            "flex": null,
            "flex_flow": null,
            "grid_area": null,
            "grid_auto_columns": null,
            "grid_auto_flow": null,
            "grid_auto_rows": null,
            "grid_column": null,
            "grid_gap": null,
            "grid_row": null,
            "grid_template_areas": null,
            "grid_template_columns": null,
            "grid_template_rows": null,
            "height": null,
            "justify_content": null,
            "justify_items": null,
            "left": null,
            "margin": null,
            "max_height": null,
            "max_width": null,
            "min_height": null,
            "min_width": null,
            "object_fit": null,
            "object_position": null,
            "order": null,
            "overflow": null,
            "overflow_x": null,
            "overflow_y": null,
            "padding": null,
            "right": null,
            "top": null,
            "visibility": null,
            "width": null
          }
        },
        "1e034563689543788499570a6c1ca94f": {
          "model_module": "@jupyter-widgets/base",
          "model_name": "LayoutModel",
          "model_module_version": "1.2.0",
          "state": {
            "_model_module": "@jupyter-widgets/base",
            "_model_module_version": "1.2.0",
            "_model_name": "LayoutModel",
            "_view_count": null,
            "_view_module": "@jupyter-widgets/base",
            "_view_module_version": "1.2.0",
            "_view_name": "LayoutView",
            "align_content": null,
            "align_items": null,
            "align_self": null,
            "border": null,
            "bottom": null,
            "display": null,
            "flex": null,
            "flex_flow": null,
            "grid_area": null,
            "grid_auto_columns": null,
            "grid_auto_flow": null,
            "grid_auto_rows": null,
            "grid_column": null,
            "grid_gap": null,
            "grid_row": null,
            "grid_template_areas": null,
            "grid_template_columns": null,
            "grid_template_rows": null,
            "height": null,
            "justify_content": null,
            "justify_items": null,
            "left": null,
            "margin": null,
            "max_height": null,
            "max_width": null,
            "min_height": null,
            "min_width": null,
            "object_fit": null,
            "object_position": null,
            "order": null,
            "overflow": null,
            "overflow_x": null,
            "overflow_y": null,
            "padding": null,
            "right": null,
            "top": null,
            "visibility": null,
            "width": null
          }
        },
        "d2e1e287124b465f81bae9a7b02dfa6a": {
          "model_module": "@jupyter-widgets/controls",
          "model_name": "DescriptionStyleModel",
          "model_module_version": "1.5.0",
          "state": {
            "_model_module": "@jupyter-widgets/controls",
            "_model_module_version": "1.5.0",
            "_model_name": "DescriptionStyleModel",
            "_view_count": null,
            "_view_module": "@jupyter-widgets/base",
            "_view_module_version": "1.2.0",
            "_view_name": "StyleView",
            "description_width": ""
          }
        },
        "711214bb045b441ba42ed7cfba32130e": {
          "model_module": "@jupyter-widgets/base",
          "model_name": "LayoutModel",
          "model_module_version": "1.2.0",
          "state": {
            "_model_module": "@jupyter-widgets/base",
            "_model_module_version": "1.2.0",
            "_model_name": "LayoutModel",
            "_view_count": null,
            "_view_module": "@jupyter-widgets/base",
            "_view_module_version": "1.2.0",
            "_view_name": "LayoutView",
            "align_content": null,
            "align_items": null,
            "align_self": null,
            "border": null,
            "bottom": null,
            "display": null,
            "flex": null,
            "flex_flow": null,
            "grid_area": null,
            "grid_auto_columns": null,
            "grid_auto_flow": null,
            "grid_auto_rows": null,
            "grid_column": null,
            "grid_gap": null,
            "grid_row": null,
            "grid_template_areas": null,
            "grid_template_columns": null,
            "grid_template_rows": null,
            "height": null,
            "justify_content": null,
            "justify_items": null,
            "left": null,
            "margin": null,
            "max_height": null,
            "max_width": null,
            "min_height": null,
            "min_width": null,
            "object_fit": null,
            "object_position": null,
            "order": null,
            "overflow": null,
            "overflow_x": null,
            "overflow_y": null,
            "padding": null,
            "right": null,
            "top": null,
            "visibility": null,
            "width": null
          }
        },
        "defd2e39479f4a578e715bf0336b1540": {
          "model_module": "@jupyter-widgets/controls",
          "model_name": "ProgressStyleModel",
          "model_module_version": "1.5.0",
          "state": {
            "_model_module": "@jupyter-widgets/controls",
            "_model_module_version": "1.5.0",
            "_model_name": "ProgressStyleModel",
            "_view_count": null,
            "_view_module": "@jupyter-widgets/base",
            "_view_module_version": "1.2.0",
            "_view_name": "StyleView",
            "bar_color": null,
            "description_width": ""
          }
        },
        "afd72f5dba434010ae1fb66b92abb206": {
          "model_module": "@jupyter-widgets/base",
          "model_name": "LayoutModel",
          "model_module_version": "1.2.0",
          "state": {
            "_model_module": "@jupyter-widgets/base",
            "_model_module_version": "1.2.0",
            "_model_name": "LayoutModel",
            "_view_count": null,
            "_view_module": "@jupyter-widgets/base",
            "_view_module_version": "1.2.0",
            "_view_name": "LayoutView",
            "align_content": null,
            "align_items": null,
            "align_self": null,
            "border": null,
            "bottom": null,
            "display": null,
            "flex": null,
            "flex_flow": null,
            "grid_area": null,
            "grid_auto_columns": null,
            "grid_auto_flow": null,
            "grid_auto_rows": null,
            "grid_column": null,
            "grid_gap": null,
            "grid_row": null,
            "grid_template_areas": null,
            "grid_template_columns": null,
            "grid_template_rows": null,
            "height": null,
            "justify_content": null,
            "justify_items": null,
            "left": null,
            "margin": null,
            "max_height": null,
            "max_width": null,
            "min_height": null,
            "min_width": null,
            "object_fit": null,
            "object_position": null,
            "order": null,
            "overflow": null,
            "overflow_x": null,
            "overflow_y": null,
            "padding": null,
            "right": null,
            "top": null,
            "visibility": null,
            "width": null
          }
        },
        "5fd6cae61385478bb64e7a2a0d3523b8": {
          "model_module": "@jupyter-widgets/controls",
          "model_name": "DescriptionStyleModel",
          "model_module_version": "1.5.0",
          "state": {
            "_model_module": "@jupyter-widgets/controls",
            "_model_module_version": "1.5.0",
            "_model_name": "DescriptionStyleModel",
            "_view_count": null,
            "_view_module": "@jupyter-widgets/base",
            "_view_module_version": "1.2.0",
            "_view_name": "StyleView",
            "description_width": ""
          }
        },
        "057cc7028e74406eacaf392d958e3f9c": {
          "model_module": "@jupyter-widgets/controls",
          "model_name": "HBoxModel",
          "model_module_version": "1.5.0",
          "state": {
            "_dom_classes": [],
            "_model_module": "@jupyter-widgets/controls",
            "_model_module_version": "1.5.0",
            "_model_name": "HBoxModel",
            "_view_count": null,
            "_view_module": "@jupyter-widgets/controls",
            "_view_module_version": "1.5.0",
            "_view_name": "HBoxView",
            "box_style": "",
            "children": [
              "IPY_MODEL_54283fbf36ce4b8f87dc949ee0e7b56f",
              "IPY_MODEL_dc6243bd4ca44922ab759288ba01b467",
              "IPY_MODEL_55e5ba03c7564ea68034610fd1a94c3a"
            ],
            "layout": "IPY_MODEL_4cf0f660014443b684cc7453bb8fd188"
          }
        },
        "54283fbf36ce4b8f87dc949ee0e7b56f": {
          "model_module": "@jupyter-widgets/controls",
          "model_name": "HTMLModel",
          "model_module_version": "1.5.0",
          "state": {
            "_dom_classes": [],
            "_model_module": "@jupyter-widgets/controls",
            "_model_module_version": "1.5.0",
            "_model_name": "HTMLModel",
            "_view_count": null,
            "_view_module": "@jupyter-widgets/controls",
            "_view_module_version": "1.5.0",
            "_view_name": "HTMLView",
            "description": "",
            "description_tooltip": null,
            "layout": "IPY_MODEL_fc1737ee488b4a448489e8a8bed91b90",
            "placeholder": "​",
            "style": "IPY_MODEL_b46332d4f7f643518120beae00475d73",
            "value": "Downloading: 100%"
          }
        },
        "dc6243bd4ca44922ab759288ba01b467": {
          "model_module": "@jupyter-widgets/controls",
          "model_name": "FloatProgressModel",
          "model_module_version": "1.5.0",
          "state": {
            "_dom_classes": [],
            "_model_module": "@jupyter-widgets/controls",
            "_model_module_version": "1.5.0",
            "_model_name": "FloatProgressModel",
            "_view_count": null,
            "_view_module": "@jupyter-widgets/controls",
            "_view_module_version": "1.5.0",
            "_view_name": "ProgressView",
            "bar_style": "success",
            "description": "",
            "description_tooltip": null,
            "layout": "IPY_MODEL_9ac48415ec5944d981176d3047b61acb",
            "max": 28,
            "min": 0,
            "orientation": "horizontal",
            "style": "IPY_MODEL_df47cd9ca12543009c2617060b293d39",
            "value": 28
          }
        },
        "55e5ba03c7564ea68034610fd1a94c3a": {
          "model_module": "@jupyter-widgets/controls",
          "model_name": "HTMLModel",
          "model_module_version": "1.5.0",
          "state": {
            "_dom_classes": [],
            "_model_module": "@jupyter-widgets/controls",
            "_model_module_version": "1.5.0",
            "_model_name": "HTMLModel",
            "_view_count": null,
            "_view_module": "@jupyter-widgets/controls",
            "_view_module_version": "1.5.0",
            "_view_name": "HTMLView",
            "description": "",
            "description_tooltip": null,
            "layout": "IPY_MODEL_29d09edb12a84dbbba52234e03b7a725",
            "placeholder": "​",
            "style": "IPY_MODEL_aa39000dd7a1413994317f4d0df56e31",
            "value": " 28.0/28.0 [00:00&lt;00:00, 1.03kB/s]"
          }
        },
        "4cf0f660014443b684cc7453bb8fd188": {
          "model_module": "@jupyter-widgets/base",
          "model_name": "LayoutModel",
          "model_module_version": "1.2.0",
          "state": {
            "_model_module": "@jupyter-widgets/base",
            "_model_module_version": "1.2.0",
            "_model_name": "LayoutModel",
            "_view_count": null,
            "_view_module": "@jupyter-widgets/base",
            "_view_module_version": "1.2.0",
            "_view_name": "LayoutView",
            "align_content": null,
            "align_items": null,
            "align_self": null,
            "border": null,
            "bottom": null,
            "display": null,
            "flex": null,
            "flex_flow": null,
            "grid_area": null,
            "grid_auto_columns": null,
            "grid_auto_flow": null,
            "grid_auto_rows": null,
            "grid_column": null,
            "grid_gap": null,
            "grid_row": null,
            "grid_template_areas": null,
            "grid_template_columns": null,
            "grid_template_rows": null,
            "height": null,
            "justify_content": null,
            "justify_items": null,
            "left": null,
            "margin": null,
            "max_height": null,
            "max_width": null,
            "min_height": null,
            "min_width": null,
            "object_fit": null,
            "object_position": null,
            "order": null,
            "overflow": null,
            "overflow_x": null,
            "overflow_y": null,
            "padding": null,
            "right": null,
            "top": null,
            "visibility": null,
            "width": null
          }
        },
        "fc1737ee488b4a448489e8a8bed91b90": {
          "model_module": "@jupyter-widgets/base",
          "model_name": "LayoutModel",
          "model_module_version": "1.2.0",
          "state": {
            "_model_module": "@jupyter-widgets/base",
            "_model_module_version": "1.2.0",
            "_model_name": "LayoutModel",
            "_view_count": null,
            "_view_module": "@jupyter-widgets/base",
            "_view_module_version": "1.2.0",
            "_view_name": "LayoutView",
            "align_content": null,
            "align_items": null,
            "align_self": null,
            "border": null,
            "bottom": null,
            "display": null,
            "flex": null,
            "flex_flow": null,
            "grid_area": null,
            "grid_auto_columns": null,
            "grid_auto_flow": null,
            "grid_auto_rows": null,
            "grid_column": null,
            "grid_gap": null,
            "grid_row": null,
            "grid_template_areas": null,
            "grid_template_columns": null,
            "grid_template_rows": null,
            "height": null,
            "justify_content": null,
            "justify_items": null,
            "left": null,
            "margin": null,
            "max_height": null,
            "max_width": null,
            "min_height": null,
            "min_width": null,
            "object_fit": null,
            "object_position": null,
            "order": null,
            "overflow": null,
            "overflow_x": null,
            "overflow_y": null,
            "padding": null,
            "right": null,
            "top": null,
            "visibility": null,
            "width": null
          }
        },
        "b46332d4f7f643518120beae00475d73": {
          "model_module": "@jupyter-widgets/controls",
          "model_name": "DescriptionStyleModel",
          "model_module_version": "1.5.0",
          "state": {
            "_model_module": "@jupyter-widgets/controls",
            "_model_module_version": "1.5.0",
            "_model_name": "DescriptionStyleModel",
            "_view_count": null,
            "_view_module": "@jupyter-widgets/base",
            "_view_module_version": "1.2.0",
            "_view_name": "StyleView",
            "description_width": ""
          }
        },
        "9ac48415ec5944d981176d3047b61acb": {
          "model_module": "@jupyter-widgets/base",
          "model_name": "LayoutModel",
          "model_module_version": "1.2.0",
          "state": {
            "_model_module": "@jupyter-widgets/base",
            "_model_module_version": "1.2.0",
            "_model_name": "LayoutModel",
            "_view_count": null,
            "_view_module": "@jupyter-widgets/base",
            "_view_module_version": "1.2.0",
            "_view_name": "LayoutView",
            "align_content": null,
            "align_items": null,
            "align_self": null,
            "border": null,
            "bottom": null,
            "display": null,
            "flex": null,
            "flex_flow": null,
            "grid_area": null,
            "grid_auto_columns": null,
            "grid_auto_flow": null,
            "grid_auto_rows": null,
            "grid_column": null,
            "grid_gap": null,
            "grid_row": null,
            "grid_template_areas": null,
            "grid_template_columns": null,
            "grid_template_rows": null,
            "height": null,
            "justify_content": null,
            "justify_items": null,
            "left": null,
            "margin": null,
            "max_height": null,
            "max_width": null,
            "min_height": null,
            "min_width": null,
            "object_fit": null,
            "object_position": null,
            "order": null,
            "overflow": null,
            "overflow_x": null,
            "overflow_y": null,
            "padding": null,
            "right": null,
            "top": null,
            "visibility": null,
            "width": null
          }
        },
        "df47cd9ca12543009c2617060b293d39": {
          "model_module": "@jupyter-widgets/controls",
          "model_name": "ProgressStyleModel",
          "model_module_version": "1.5.0",
          "state": {
            "_model_module": "@jupyter-widgets/controls",
            "_model_module_version": "1.5.0",
            "_model_name": "ProgressStyleModel",
            "_view_count": null,
            "_view_module": "@jupyter-widgets/base",
            "_view_module_version": "1.2.0",
            "_view_name": "StyleView",
            "bar_color": null,
            "description_width": ""
          }
        },
        "29d09edb12a84dbbba52234e03b7a725": {
          "model_module": "@jupyter-widgets/base",
          "model_name": "LayoutModel",
          "model_module_version": "1.2.0",
          "state": {
            "_model_module": "@jupyter-widgets/base",
            "_model_module_version": "1.2.0",
            "_model_name": "LayoutModel",
            "_view_count": null,
            "_view_module": "@jupyter-widgets/base",
            "_view_module_version": "1.2.0",
            "_view_name": "LayoutView",
            "align_content": null,
            "align_items": null,
            "align_self": null,
            "border": null,
            "bottom": null,
            "display": null,
            "flex": null,
            "flex_flow": null,
            "grid_area": null,
            "grid_auto_columns": null,
            "grid_auto_flow": null,
            "grid_auto_rows": null,
            "grid_column": null,
            "grid_gap": null,
            "grid_row": null,
            "grid_template_areas": null,
            "grid_template_columns": null,
            "grid_template_rows": null,
            "height": null,
            "justify_content": null,
            "justify_items": null,
            "left": null,
            "margin": null,
            "max_height": null,
            "max_width": null,
            "min_height": null,
            "min_width": null,
            "object_fit": null,
            "object_position": null,
            "order": null,
            "overflow": null,
            "overflow_x": null,
            "overflow_y": null,
            "padding": null,
            "right": null,
            "top": null,
            "visibility": null,
            "width": null
          }
        },
        "aa39000dd7a1413994317f4d0df56e31": {
          "model_module": "@jupyter-widgets/controls",
          "model_name": "DescriptionStyleModel",
          "model_module_version": "1.5.0",
          "state": {
            "_model_module": "@jupyter-widgets/controls",
            "_model_module_version": "1.5.0",
            "_model_name": "DescriptionStyleModel",
            "_view_count": null,
            "_view_module": "@jupyter-widgets/base",
            "_view_module_version": "1.2.0",
            "_view_name": "StyleView",
            "description_width": ""
          }
        },
        "912f73d165fc4e9cb5eb85987e5e5990": {
          "model_module": "@jupyter-widgets/controls",
          "model_name": "HBoxModel",
          "model_module_version": "1.5.0",
          "state": {
            "_dom_classes": [],
            "_model_module": "@jupyter-widgets/controls",
            "_model_module_version": "1.5.0",
            "_model_name": "HBoxModel",
            "_view_count": null,
            "_view_module": "@jupyter-widgets/controls",
            "_view_module_version": "1.5.0",
            "_view_name": "HBoxView",
            "box_style": "",
            "children": [
              "IPY_MODEL_60a615ea6fba4ae194b192c1bae46373",
              "IPY_MODEL_9ec563b8ff6640da9e6fe21548e2ea86",
              "IPY_MODEL_eb4c78185f8d4f04be19a4dfe6d588a0"
            ],
            "layout": "IPY_MODEL_bb97f6bc6b9a4ba49d3ebfb4e51a8ebb"
          }
        },
        "60a615ea6fba4ae194b192c1bae46373": {
          "model_module": "@jupyter-widgets/controls",
          "model_name": "HTMLModel",
          "model_module_version": "1.5.0",
          "state": {
            "_dom_classes": [],
            "_model_module": "@jupyter-widgets/controls",
            "_model_module_version": "1.5.0",
            "_model_name": "HTMLModel",
            "_view_count": null,
            "_view_module": "@jupyter-widgets/controls",
            "_view_module_version": "1.5.0",
            "_view_name": "HTMLView",
            "description": "",
            "description_tooltip": null,
            "layout": "IPY_MODEL_c216eb9bc6684dcc9f0d23ea04564bd7",
            "placeholder": "​",
            "style": "IPY_MODEL_2f0626db75184c42be6bb2956a580373",
            "value": "Downloading: 100%"
          }
        },
        "9ec563b8ff6640da9e6fe21548e2ea86": {
          "model_module": "@jupyter-widgets/controls",
          "model_name": "FloatProgressModel",
          "model_module_version": "1.5.0",
          "state": {
            "_dom_classes": [],
            "_model_module": "@jupyter-widgets/controls",
            "_model_module_version": "1.5.0",
            "_model_name": "FloatProgressModel",
            "_view_count": null,
            "_view_module": "@jupyter-widgets/controls",
            "_view_module_version": "1.5.0",
            "_view_name": "ProgressView",
            "bar_style": "success",
            "description": "",
            "description_tooltip": null,
            "layout": "IPY_MODEL_4f772e4519b04a61824e099c448c26b5",
            "max": 570,
            "min": 0,
            "orientation": "horizontal",
            "style": "IPY_MODEL_3611abc2415b4c0891e782027d44ae61",
            "value": 570
          }
        },
        "eb4c78185f8d4f04be19a4dfe6d588a0": {
          "model_module": "@jupyter-widgets/controls",
          "model_name": "HTMLModel",
          "model_module_version": "1.5.0",
          "state": {
            "_dom_classes": [],
            "_model_module": "@jupyter-widgets/controls",
            "_model_module_version": "1.5.0",
            "_model_name": "HTMLModel",
            "_view_count": null,
            "_view_module": "@jupyter-widgets/controls",
            "_view_module_version": "1.5.0",
            "_view_name": "HTMLView",
            "description": "",
            "description_tooltip": null,
            "layout": "IPY_MODEL_88dbcfc7f3994f03b6996d9f1170e000",
            "placeholder": "​",
            "style": "IPY_MODEL_5c96928947a74903b2ddf3afd8da56fc",
            "value": " 570/570 [00:00&lt;00:00, 21.6kB/s]"
          }
        },
        "bb97f6bc6b9a4ba49d3ebfb4e51a8ebb": {
          "model_module": "@jupyter-widgets/base",
          "model_name": "LayoutModel",
          "model_module_version": "1.2.0",
          "state": {
            "_model_module": "@jupyter-widgets/base",
            "_model_module_version": "1.2.0",
            "_model_name": "LayoutModel",
            "_view_count": null,
            "_view_module": "@jupyter-widgets/base",
            "_view_module_version": "1.2.0",
            "_view_name": "LayoutView",
            "align_content": null,
            "align_items": null,
            "align_self": null,
            "border": null,
            "bottom": null,
            "display": null,
            "flex": null,
            "flex_flow": null,
            "grid_area": null,
            "grid_auto_columns": null,
            "grid_auto_flow": null,
            "grid_auto_rows": null,
            "grid_column": null,
            "grid_gap": null,
            "grid_row": null,
            "grid_template_areas": null,
            "grid_template_columns": null,
            "grid_template_rows": null,
            "height": null,
            "justify_content": null,
            "justify_items": null,
            "left": null,
            "margin": null,
            "max_height": null,
            "max_width": null,
            "min_height": null,
            "min_width": null,
            "object_fit": null,
            "object_position": null,
            "order": null,
            "overflow": null,
            "overflow_x": null,
            "overflow_y": null,
            "padding": null,
            "right": null,
            "top": null,
            "visibility": null,
            "width": null
          }
        },
        "c216eb9bc6684dcc9f0d23ea04564bd7": {
          "model_module": "@jupyter-widgets/base",
          "model_name": "LayoutModel",
          "model_module_version": "1.2.0",
          "state": {
            "_model_module": "@jupyter-widgets/base",
            "_model_module_version": "1.2.0",
            "_model_name": "LayoutModel",
            "_view_count": null,
            "_view_module": "@jupyter-widgets/base",
            "_view_module_version": "1.2.0",
            "_view_name": "LayoutView",
            "align_content": null,
            "align_items": null,
            "align_self": null,
            "border": null,
            "bottom": null,
            "display": null,
            "flex": null,
            "flex_flow": null,
            "grid_area": null,
            "grid_auto_columns": null,
            "grid_auto_flow": null,
            "grid_auto_rows": null,
            "grid_column": null,
            "grid_gap": null,
            "grid_row": null,
            "grid_template_areas": null,
            "grid_template_columns": null,
            "grid_template_rows": null,
            "height": null,
            "justify_content": null,
            "justify_items": null,
            "left": null,
            "margin": null,
            "max_height": null,
            "max_width": null,
            "min_height": null,
            "min_width": null,
            "object_fit": null,
            "object_position": null,
            "order": null,
            "overflow": null,
            "overflow_x": null,
            "overflow_y": null,
            "padding": null,
            "right": null,
            "top": null,
            "visibility": null,
            "width": null
          }
        },
        "2f0626db75184c42be6bb2956a580373": {
          "model_module": "@jupyter-widgets/controls",
          "model_name": "DescriptionStyleModel",
          "model_module_version": "1.5.0",
          "state": {
            "_model_module": "@jupyter-widgets/controls",
            "_model_module_version": "1.5.0",
            "_model_name": "DescriptionStyleModel",
            "_view_count": null,
            "_view_module": "@jupyter-widgets/base",
            "_view_module_version": "1.2.0",
            "_view_name": "StyleView",
            "description_width": ""
          }
        },
        "4f772e4519b04a61824e099c448c26b5": {
          "model_module": "@jupyter-widgets/base",
          "model_name": "LayoutModel",
          "model_module_version": "1.2.0",
          "state": {
            "_model_module": "@jupyter-widgets/base",
            "_model_module_version": "1.2.0",
            "_model_name": "LayoutModel",
            "_view_count": null,
            "_view_module": "@jupyter-widgets/base",
            "_view_module_version": "1.2.0",
            "_view_name": "LayoutView",
            "align_content": null,
            "align_items": null,
            "align_self": null,
            "border": null,
            "bottom": null,
            "display": null,
            "flex": null,
            "flex_flow": null,
            "grid_area": null,
            "grid_auto_columns": null,
            "grid_auto_flow": null,
            "grid_auto_rows": null,
            "grid_column": null,
            "grid_gap": null,
            "grid_row": null,
            "grid_template_areas": null,
            "grid_template_columns": null,
            "grid_template_rows": null,
            "height": null,
            "justify_content": null,
            "justify_items": null,
            "left": null,
            "margin": null,
            "max_height": null,
            "max_width": null,
            "min_height": null,
            "min_width": null,
            "object_fit": null,
            "object_position": null,
            "order": null,
            "overflow": null,
            "overflow_x": null,
            "overflow_y": null,
            "padding": null,
            "right": null,
            "top": null,
            "visibility": null,
            "width": null
          }
        },
        "3611abc2415b4c0891e782027d44ae61": {
          "model_module": "@jupyter-widgets/controls",
          "model_name": "ProgressStyleModel",
          "model_module_version": "1.5.0",
          "state": {
            "_model_module": "@jupyter-widgets/controls",
            "_model_module_version": "1.5.0",
            "_model_name": "ProgressStyleModel",
            "_view_count": null,
            "_view_module": "@jupyter-widgets/base",
            "_view_module_version": "1.2.0",
            "_view_name": "StyleView",
            "bar_color": null,
            "description_width": ""
          }
        },
        "88dbcfc7f3994f03b6996d9f1170e000": {
          "model_module": "@jupyter-widgets/base",
          "model_name": "LayoutModel",
          "model_module_version": "1.2.0",
          "state": {
            "_model_module": "@jupyter-widgets/base",
            "_model_module_version": "1.2.0",
            "_model_name": "LayoutModel",
            "_view_count": null,
            "_view_module": "@jupyter-widgets/base",
            "_view_module_version": "1.2.0",
            "_view_name": "LayoutView",
            "align_content": null,
            "align_items": null,
            "align_self": null,
            "border": null,
            "bottom": null,
            "display": null,
            "flex": null,
            "flex_flow": null,
            "grid_area": null,
            "grid_auto_columns": null,
            "grid_auto_flow": null,
            "grid_auto_rows": null,
            "grid_column": null,
            "grid_gap": null,
            "grid_row": null,
            "grid_template_areas": null,
            "grid_template_columns": null,
            "grid_template_rows": null,
            "height": null,
            "justify_content": null,
            "justify_items": null,
            "left": null,
            "margin": null,
            "max_height": null,
            "max_width": null,
            "min_height": null,
            "min_width": null,
            "object_fit": null,
            "object_position": null,
            "order": null,
            "overflow": null,
            "overflow_x": null,
            "overflow_y": null,
            "padding": null,
            "right": null,
            "top": null,
            "visibility": null,
            "width": null
          }
        },
        "5c96928947a74903b2ddf3afd8da56fc": {
          "model_module": "@jupyter-widgets/controls",
          "model_name": "DescriptionStyleModel",
          "model_module_version": "1.5.0",
          "state": {
            "_model_module": "@jupyter-widgets/controls",
            "_model_module_version": "1.5.0",
            "_model_name": "DescriptionStyleModel",
            "_view_count": null,
            "_view_module": "@jupyter-widgets/base",
            "_view_module_version": "1.2.0",
            "_view_name": "StyleView",
            "description_width": ""
          }
        },
        "d2266ef8fce54502b626e6f0e51750a3": {
          "model_module": "@jupyter-widgets/controls",
          "model_name": "VBoxModel",
          "model_module_version": "1.5.0",
          "state": {
            "_dom_classes": [],
            "_model_module": "@jupyter-widgets/controls",
            "_model_module_version": "1.5.0",
            "_model_name": "VBoxModel",
            "_view_count": null,
            "_view_module": "@jupyter-widgets/controls",
            "_view_module_version": "1.5.0",
            "_view_name": "VBoxView",
            "box_style": "",
            "children": [
              "IPY_MODEL_914db275060e48a79c01e9e94e0a4b52",
              "IPY_MODEL_e1218dbb1aa64453bf85da5938e6afa0"
            ],
            "layout": "IPY_MODEL_7023b7d515a2472c9d45d4d927cce2b9"
          }
        },
        "914db275060e48a79c01e9e94e0a4b52": {
          "model_module": "@jupyter-widgets/controls",
          "model_name": "LabelModel",
          "model_module_version": "1.5.0",
          "state": {
            "_dom_classes": [],
            "_model_module": "@jupyter-widgets/controls",
            "_model_module_version": "1.5.0",
            "_model_name": "LabelModel",
            "_view_count": null,
            "_view_module": "@jupyter-widgets/controls",
            "_view_module_version": "1.5.0",
            "_view_name": "LabelView",
            "description": "",
            "description_tooltip": null,
            "layout": "IPY_MODEL_f949b9183378490cab7ac101bb497f6f",
            "placeholder": "​",
            "style": "IPY_MODEL_2527fc9f420b4d4daba023fc8bdad4a1",
            "value": "0.008 MB of 0.008 MB uploaded (0.000 MB deduped)\r"
          }
        },
        "e1218dbb1aa64453bf85da5938e6afa0": {
          "model_module": "@jupyter-widgets/controls",
          "model_name": "FloatProgressModel",
          "model_module_version": "1.5.0",
          "state": {
            "_dom_classes": [],
            "_model_module": "@jupyter-widgets/controls",
            "_model_module_version": "1.5.0",
            "_model_name": "FloatProgressModel",
            "_view_count": null,
            "_view_module": "@jupyter-widgets/controls",
            "_view_module_version": "1.5.0",
            "_view_name": "ProgressView",
            "bar_style": "",
            "description": "",
            "description_tooltip": null,
            "layout": "IPY_MODEL_7e4c3fe712d5457ebc032edd3ddc260a",
            "max": 1,
            "min": 0,
            "orientation": "horizontal",
            "style": "IPY_MODEL_eb537cf10d5f465bb64dabf5aa1aba68",
            "value": 1
          }
        },
        "7023b7d515a2472c9d45d4d927cce2b9": {
          "model_module": "@jupyter-widgets/base",
          "model_name": "LayoutModel",
          "model_module_version": "1.2.0",
          "state": {
            "_model_module": "@jupyter-widgets/base",
            "_model_module_version": "1.2.0",
            "_model_name": "LayoutModel",
            "_view_count": null,
            "_view_module": "@jupyter-widgets/base",
            "_view_module_version": "1.2.0",
            "_view_name": "LayoutView",
            "align_content": null,
            "align_items": null,
            "align_self": null,
            "border": null,
            "bottom": null,
            "display": null,
            "flex": null,
            "flex_flow": null,
            "grid_area": null,
            "grid_auto_columns": null,
            "grid_auto_flow": null,
            "grid_auto_rows": null,
            "grid_column": null,
            "grid_gap": null,
            "grid_row": null,
            "grid_template_areas": null,
            "grid_template_columns": null,
            "grid_template_rows": null,
            "height": null,
            "justify_content": null,
            "justify_items": null,
            "left": null,
            "margin": null,
            "max_height": null,
            "max_width": null,
            "min_height": null,
            "min_width": null,
            "object_fit": null,
            "object_position": null,
            "order": null,
            "overflow": null,
            "overflow_x": null,
            "overflow_y": null,
            "padding": null,
            "right": null,
            "top": null,
            "visibility": null,
            "width": null
          }
        },
        "f949b9183378490cab7ac101bb497f6f": {
          "model_module": "@jupyter-widgets/base",
          "model_name": "LayoutModel",
          "model_module_version": "1.2.0",
          "state": {
            "_model_module": "@jupyter-widgets/base",
            "_model_module_version": "1.2.0",
            "_model_name": "LayoutModel",
            "_view_count": null,
            "_view_module": "@jupyter-widgets/base",
            "_view_module_version": "1.2.0",
            "_view_name": "LayoutView",
            "align_content": null,
            "align_items": null,
            "align_self": null,
            "border": null,
            "bottom": null,
            "display": null,
            "flex": null,
            "flex_flow": null,
            "grid_area": null,
            "grid_auto_columns": null,
            "grid_auto_flow": null,
            "grid_auto_rows": null,
            "grid_column": null,
            "grid_gap": null,
            "grid_row": null,
            "grid_template_areas": null,
            "grid_template_columns": null,
            "grid_template_rows": null,
            "height": null,
            "justify_content": null,
            "justify_items": null,
            "left": null,
            "margin": null,
            "max_height": null,
            "max_width": null,
            "min_height": null,
            "min_width": null,
            "object_fit": null,
            "object_position": null,
            "order": null,
            "overflow": null,
            "overflow_x": null,
            "overflow_y": null,
            "padding": null,
            "right": null,
            "top": null,
            "visibility": null,
            "width": null
          }
        },
        "2527fc9f420b4d4daba023fc8bdad4a1": {
          "model_module": "@jupyter-widgets/controls",
          "model_name": "DescriptionStyleModel",
          "model_module_version": "1.5.0",
          "state": {
            "_model_module": "@jupyter-widgets/controls",
            "_model_module_version": "1.5.0",
            "_model_name": "DescriptionStyleModel",
            "_view_count": null,
            "_view_module": "@jupyter-widgets/base",
            "_view_module_version": "1.2.0",
            "_view_name": "StyleView",
            "description_width": ""
          }
        },
        "7e4c3fe712d5457ebc032edd3ddc260a": {
          "model_module": "@jupyter-widgets/base",
          "model_name": "LayoutModel",
          "model_module_version": "1.2.0",
          "state": {
            "_model_module": "@jupyter-widgets/base",
            "_model_module_version": "1.2.0",
            "_model_name": "LayoutModel",
            "_view_count": null,
            "_view_module": "@jupyter-widgets/base",
            "_view_module_version": "1.2.0",
            "_view_name": "LayoutView",
            "align_content": null,
            "align_items": null,
            "align_self": null,
            "border": null,
            "bottom": null,
            "display": null,
            "flex": null,
            "flex_flow": null,
            "grid_area": null,
            "grid_auto_columns": null,
            "grid_auto_flow": null,
            "grid_auto_rows": null,
            "grid_column": null,
            "grid_gap": null,
            "grid_row": null,
            "grid_template_areas": null,
            "grid_template_columns": null,
            "grid_template_rows": null,
            "height": null,
            "justify_content": null,
            "justify_items": null,
            "left": null,
            "margin": null,
            "max_height": null,
            "max_width": null,
            "min_height": null,
            "min_width": null,
            "object_fit": null,
            "object_position": null,
            "order": null,
            "overflow": null,
            "overflow_x": null,
            "overflow_y": null,
            "padding": null,
            "right": null,
            "top": null,
            "visibility": null,
            "width": null
          }
        },
        "eb537cf10d5f465bb64dabf5aa1aba68": {
          "model_module": "@jupyter-widgets/controls",
          "model_name": "ProgressStyleModel",
          "model_module_version": "1.5.0",
          "state": {
            "_model_module": "@jupyter-widgets/controls",
            "_model_module_version": "1.5.0",
            "_model_name": "ProgressStyleModel",
            "_view_count": null,
            "_view_module": "@jupyter-widgets/base",
            "_view_module_version": "1.2.0",
            "_view_name": "StyleView",
            "bar_color": null,
            "description_width": ""
          }
        }
      }
    }
  },
  "nbformat_minor": 0,
  "nbformat": 4,
  "cells": [
    {
      "cell_type": "markdown",
      "metadata": {
        "id": "view-in-github",
        "colab_type": "text"
      },
      "source": [
        "<a href=\"https://colab.research.google.com/github/Kompactss/my_codes/blob/main/baseline_code_colab(0_98700%2C_22_03_29).ipynb\" target=\"_parent\"><img src=\"https://colab.research.google.com/assets/colab-badge.svg\" alt=\"Open In Colab\"/></a>"
      ]
    },
    {
      "cell_type": "markdown",
      "source": [
        "# Import requirements"
      ],
      "metadata": {
        "id": "TH32rzgprvgM"
      }
    },
    {
      "cell_type": "code",
      "source": [
        "!pip install transformers"
      ],
      "metadata": {
        "id": "G9EvC1HBuf41",
        "outputId": "c1fc9539-ca3a-466b-df1e-0c691f5aea29",
        "colab": {
          "base_uri": "https://localhost:8080/"
        }
      },
      "execution_count": 5,
      "outputs": [
        {
          "output_type": "stream",
          "name": "stdout",
          "text": [
            "Collecting transformers\n",
            "  Downloading transformers-4.17.0-py3-none-any.whl (3.8 MB)\n",
            "\u001b[K     |████████████████████████████████| 3.8 MB 15.3 MB/s \n",
            "\u001b[?25hRequirement already satisfied: numpy>=1.17 in /usr/local/lib/python3.7/dist-packages (from transformers) (1.21.5)\n",
            "Collecting sacremoses\n",
            "  Downloading sacremoses-0.0.49-py3-none-any.whl (895 kB)\n",
            "\u001b[K     |████████████████████████████████| 895 kB 67.9 MB/s \n",
            "\u001b[?25hCollecting huggingface-hub<1.0,>=0.1.0\n",
            "  Downloading huggingface_hub-0.4.0-py3-none-any.whl (67 kB)\n",
            "\u001b[K     |████████████████████████████████| 67 kB 5.5 MB/s \n",
            "\u001b[?25hRequirement already satisfied: importlib-metadata in /usr/local/lib/python3.7/dist-packages (from transformers) (4.11.3)\n",
            "Requirement already satisfied: tqdm>=4.27 in /usr/local/lib/python3.7/dist-packages (from transformers) (4.63.0)\n",
            "Requirement already satisfied: requests in /usr/local/lib/python3.7/dist-packages (from transformers) (2.23.0)\n",
            "Requirement already satisfied: regex!=2019.12.17 in /usr/local/lib/python3.7/dist-packages (from transformers) (2019.12.20)\n",
            "Requirement already satisfied: filelock in /usr/local/lib/python3.7/dist-packages (from transformers) (3.6.0)\n",
            "Requirement already satisfied: packaging>=20.0 in /usr/local/lib/python3.7/dist-packages (from transformers) (21.3)\n",
            "Collecting tokenizers!=0.11.3,>=0.11.1\n",
            "  Downloading tokenizers-0.11.6-cp37-cp37m-manylinux_2_12_x86_64.manylinux2010_x86_64.whl (6.5 MB)\n",
            "\u001b[K     |████████████████████████████████| 6.5 MB 58.7 MB/s \n",
            "\u001b[?25hCollecting pyyaml>=5.1\n",
            "  Downloading PyYAML-6.0-cp37-cp37m-manylinux_2_5_x86_64.manylinux1_x86_64.manylinux_2_12_x86_64.manylinux2010_x86_64.whl (596 kB)\n",
            "\u001b[K     |████████████████████████████████| 596 kB 67.4 MB/s \n",
            "\u001b[?25hRequirement already satisfied: typing-extensions>=3.7.4.3 in /usr/local/lib/python3.7/dist-packages (from huggingface-hub<1.0,>=0.1.0->transformers) (3.10.0.2)\n",
            "Requirement already satisfied: pyparsing!=3.0.5,>=2.0.2 in /usr/local/lib/python3.7/dist-packages (from packaging>=20.0->transformers) (3.0.7)\n",
            "Requirement already satisfied: zipp>=0.5 in /usr/local/lib/python3.7/dist-packages (from importlib-metadata->transformers) (3.7.0)\n",
            "Requirement already satisfied: certifi>=2017.4.17 in /usr/local/lib/python3.7/dist-packages (from requests->transformers) (2021.10.8)\n",
            "Requirement already satisfied: idna<3,>=2.5 in /usr/local/lib/python3.7/dist-packages (from requests->transformers) (2.10)\n",
            "Requirement already satisfied: chardet<4,>=3.0.2 in /usr/local/lib/python3.7/dist-packages (from requests->transformers) (3.0.4)\n",
            "Requirement already satisfied: urllib3!=1.25.0,!=1.25.1,<1.26,>=1.21.1 in /usr/local/lib/python3.7/dist-packages (from requests->transformers) (1.24.3)\n",
            "Requirement already satisfied: joblib in /usr/local/lib/python3.7/dist-packages (from sacremoses->transformers) (1.1.0)\n",
            "Requirement already satisfied: click in /usr/local/lib/python3.7/dist-packages (from sacremoses->transformers) (7.1.2)\n",
            "Requirement already satisfied: six in /usr/local/lib/python3.7/dist-packages (from sacremoses->transformers) (1.15.0)\n",
            "Installing collected packages: pyyaml, tokenizers, sacremoses, huggingface-hub, transformers\n",
            "  Attempting uninstall: pyyaml\n",
            "    Found existing installation: PyYAML 3.13\n",
            "    Uninstalling PyYAML-3.13:\n",
            "      Successfully uninstalled PyYAML-3.13\n",
            "Successfully installed huggingface-hub-0.4.0 pyyaml-6.0 sacremoses-0.0.49 tokenizers-0.11.6 transformers-4.17.0\n"
          ]
        }
      ]
    },
    {
      "cell_type": "code",
      "source": [
        "!pip install wandb"
      ],
      "metadata": {
        "colab": {
          "base_uri": "https://localhost:8080/"
        },
        "id": "HCfVYHwZWFC8",
        "outputId": "7a89ce44-9334-4ec2-e7d5-e8522f22c6a7"
      },
      "execution_count": 9,
      "outputs": [
        {
          "output_type": "stream",
          "name": "stdout",
          "text": [
            "Collecting wandb\n",
            "  Downloading wandb-0.12.11-py2.py3-none-any.whl (1.7 MB)\n",
            "\u001b[?25l\r\u001b[K     |▏                               | 10 kB 33.4 MB/s eta 0:00:01\r\u001b[K     |▍                               | 20 kB 38.7 MB/s eta 0:00:01\r\u001b[K     |▋                               | 30 kB 45.8 MB/s eta 0:00:01\r\u001b[K     |▊                               | 40 kB 25.9 MB/s eta 0:00:01\r\u001b[K     |█                               | 51 kB 16.3 MB/s eta 0:00:01\r\u001b[K     |█▏                              | 61 kB 19.0 MB/s eta 0:00:01\r\u001b[K     |█▎                              | 71 kB 14.4 MB/s eta 0:00:01\r\u001b[K     |█▌                              | 81 kB 15.9 MB/s eta 0:00:01\r\u001b[K     |█▊                              | 92 kB 17.6 MB/s eta 0:00:01\r\u001b[K     |█▉                              | 102 kB 17.8 MB/s eta 0:00:01\r\u001b[K     |██                              | 112 kB 17.8 MB/s eta 0:00:01\r\u001b[K     |██▎                             | 122 kB 17.8 MB/s eta 0:00:01\r\u001b[K     |██▍                             | 133 kB 17.8 MB/s eta 0:00:01\r\u001b[K     |██▋                             | 143 kB 17.8 MB/s eta 0:00:01\r\u001b[K     |██▉                             | 153 kB 17.8 MB/s eta 0:00:01\r\u001b[K     |███                             | 163 kB 17.8 MB/s eta 0:00:01\r\u001b[K     |███▏                            | 174 kB 17.8 MB/s eta 0:00:01\r\u001b[K     |███▍                            | 184 kB 17.8 MB/s eta 0:00:01\r\u001b[K     |███▋                            | 194 kB 17.8 MB/s eta 0:00:01\r\u001b[K     |███▊                            | 204 kB 17.8 MB/s eta 0:00:01\r\u001b[K     |████                            | 215 kB 17.8 MB/s eta 0:00:01\r\u001b[K     |████▏                           | 225 kB 17.8 MB/s eta 0:00:01\r\u001b[K     |████▎                           | 235 kB 17.8 MB/s eta 0:00:01\r\u001b[K     |████▌                           | 245 kB 17.8 MB/s eta 0:00:01\r\u001b[K     |████▊                           | 256 kB 17.8 MB/s eta 0:00:01\r\u001b[K     |████▉                           | 266 kB 17.8 MB/s eta 0:00:01\r\u001b[K     |█████                           | 276 kB 17.8 MB/s eta 0:00:01\r\u001b[K     |█████▎                          | 286 kB 17.8 MB/s eta 0:00:01\r\u001b[K     |█████▌                          | 296 kB 17.8 MB/s eta 0:00:01\r\u001b[K     |█████▋                          | 307 kB 17.8 MB/s eta 0:00:01\r\u001b[K     |█████▉                          | 317 kB 17.8 MB/s eta 0:00:01\r\u001b[K     |██████                          | 327 kB 17.8 MB/s eta 0:00:01\r\u001b[K     |██████▏                         | 337 kB 17.8 MB/s eta 0:00:01\r\u001b[K     |██████▍                         | 348 kB 17.8 MB/s eta 0:00:01\r\u001b[K     |██████▋                         | 358 kB 17.8 MB/s eta 0:00:01\r\u001b[K     |██████▊                         | 368 kB 17.8 MB/s eta 0:00:01\r\u001b[K     |███████                         | 378 kB 17.8 MB/s eta 0:00:01\r\u001b[K     |███████▏                        | 389 kB 17.8 MB/s eta 0:00:01\r\u001b[K     |███████▎                        | 399 kB 17.8 MB/s eta 0:00:01\r\u001b[K     |███████▌                        | 409 kB 17.8 MB/s eta 0:00:01\r\u001b[K     |███████▊                        | 419 kB 17.8 MB/s eta 0:00:01\r\u001b[K     |███████▉                        | 430 kB 17.8 MB/s eta 0:00:01\r\u001b[K     |████████                        | 440 kB 17.8 MB/s eta 0:00:01\r\u001b[K     |████████▎                       | 450 kB 17.8 MB/s eta 0:00:01\r\u001b[K     |████████▌                       | 460 kB 17.8 MB/s eta 0:00:01\r\u001b[K     |████████▋                       | 471 kB 17.8 MB/s eta 0:00:01\r\u001b[K     |████████▉                       | 481 kB 17.8 MB/s eta 0:00:01\r\u001b[K     |█████████                       | 491 kB 17.8 MB/s eta 0:00:01\r\u001b[K     |█████████▏                      | 501 kB 17.8 MB/s eta 0:00:01\r\u001b[K     |█████████▍                      | 512 kB 17.8 MB/s eta 0:00:01\r\u001b[K     |█████████▋                      | 522 kB 17.8 MB/s eta 0:00:01\r\u001b[K     |█████████▊                      | 532 kB 17.8 MB/s eta 0:00:01\r\u001b[K     |██████████                      | 542 kB 17.8 MB/s eta 0:00:01\r\u001b[K     |██████████▏                     | 552 kB 17.8 MB/s eta 0:00:01\r\u001b[K     |██████████▎                     | 563 kB 17.8 MB/s eta 0:00:01\r\u001b[K     |██████████▌                     | 573 kB 17.8 MB/s eta 0:00:01\r\u001b[K     |██████████▊                     | 583 kB 17.8 MB/s eta 0:00:01\r\u001b[K     |███████████                     | 593 kB 17.8 MB/s eta 0:00:01\r\u001b[K     |███████████                     | 604 kB 17.8 MB/s eta 0:00:01\r\u001b[K     |███████████▎                    | 614 kB 17.8 MB/s eta 0:00:01\r\u001b[K     |███████████▌                    | 624 kB 17.8 MB/s eta 0:00:01\r\u001b[K     |███████████▋                    | 634 kB 17.8 MB/s eta 0:00:01\r\u001b[K     |███████████▉                    | 645 kB 17.8 MB/s eta 0:00:01\r\u001b[K     |████████████                    | 655 kB 17.8 MB/s eta 0:00:01\r\u001b[K     |████████████▏                   | 665 kB 17.8 MB/s eta 0:00:01\r\u001b[K     |████████████▍                   | 675 kB 17.8 MB/s eta 0:00:01\r\u001b[K     |████████████▋                   | 686 kB 17.8 MB/s eta 0:00:01\r\u001b[K     |████████████▊                   | 696 kB 17.8 MB/s eta 0:00:01\r\u001b[K     |█████████████                   | 706 kB 17.8 MB/s eta 0:00:01\r\u001b[K     |█████████████▏                  | 716 kB 17.8 MB/s eta 0:00:01\r\u001b[K     |█████████████▍                  | 727 kB 17.8 MB/s eta 0:00:01\r\u001b[K     |█████████████▌                  | 737 kB 17.8 MB/s eta 0:00:01\r\u001b[K     |█████████████▊                  | 747 kB 17.8 MB/s eta 0:00:01\r\u001b[K     |██████████████                  | 757 kB 17.8 MB/s eta 0:00:01\r\u001b[K     |██████████████                  | 768 kB 17.8 MB/s eta 0:00:01\r\u001b[K     |██████████████▎                 | 778 kB 17.8 MB/s eta 0:00:01\r\u001b[K     |██████████████▌                 | 788 kB 17.8 MB/s eta 0:00:01\r\u001b[K     |██████████████▋                 | 798 kB 17.8 MB/s eta 0:00:01\r\u001b[K     |██████████████▉                 | 808 kB 17.8 MB/s eta 0:00:01\r\u001b[K     |███████████████                 | 819 kB 17.8 MB/s eta 0:00:01\r\u001b[K     |███████████████▏                | 829 kB 17.8 MB/s eta 0:00:01\r\u001b[K     |███████████████▍                | 839 kB 17.8 MB/s eta 0:00:01\r\u001b[K     |███████████████▋                | 849 kB 17.8 MB/s eta 0:00:01\r\u001b[K     |███████████████▊                | 860 kB 17.8 MB/s eta 0:00:01\r\u001b[K     |████████████████                | 870 kB 17.8 MB/s eta 0:00:01\r\u001b[K     |████████████████▏               | 880 kB 17.8 MB/s eta 0:00:01\r\u001b[K     |████████████████▍               | 890 kB 17.8 MB/s eta 0:00:01\r\u001b[K     |████████████████▌               | 901 kB 17.8 MB/s eta 0:00:01\r\u001b[K     |████████████████▊               | 911 kB 17.8 MB/s eta 0:00:01\r\u001b[K     |█████████████████               | 921 kB 17.8 MB/s eta 0:00:01\r\u001b[K     |█████████████████               | 931 kB 17.8 MB/s eta 0:00:01\r\u001b[K     |█████████████████▎              | 942 kB 17.8 MB/s eta 0:00:01\r\u001b[K     |█████████████████▌              | 952 kB 17.8 MB/s eta 0:00:01\r\u001b[K     |█████████████████▋              | 962 kB 17.8 MB/s eta 0:00:01\r\u001b[K     |█████████████████▉              | 972 kB 17.8 MB/s eta 0:00:01\r\u001b[K     |██████████████████              | 983 kB 17.8 MB/s eta 0:00:01\r\u001b[K     |██████████████████▏             | 993 kB 17.8 MB/s eta 0:00:01\r\u001b[K     |██████████████████▍             | 1.0 MB 17.8 MB/s eta 0:00:01\r\u001b[K     |██████████████████▋             | 1.0 MB 17.8 MB/s eta 0:00:01\r\u001b[K     |██████████████████▉             | 1.0 MB 17.8 MB/s eta 0:00:01\r\u001b[K     |███████████████████             | 1.0 MB 17.8 MB/s eta 0:00:01\r\u001b[K     |███████████████████▏            | 1.0 MB 17.8 MB/s eta 0:00:01\r\u001b[K     |███████████████████▍            | 1.1 MB 17.8 MB/s eta 0:00:01\r\u001b[K     |███████████████████▌            | 1.1 MB 17.8 MB/s eta 0:00:01\r\u001b[K     |███████████████████▊            | 1.1 MB 17.8 MB/s eta 0:00:01\r\u001b[K     |████████████████████            | 1.1 MB 17.8 MB/s eta 0:00:01\r\u001b[K     |████████████████████            | 1.1 MB 17.8 MB/s eta 0:00:01\r\u001b[K     |████████████████████▎           | 1.1 MB 17.8 MB/s eta 0:00:01\r\u001b[K     |████████████████████▌           | 1.1 MB 17.8 MB/s eta 0:00:01\r\u001b[K     |████████████████████▋           | 1.1 MB 17.8 MB/s eta 0:00:01\r\u001b[K     |████████████████████▉           | 1.1 MB 17.8 MB/s eta 0:00:01\r\u001b[K     |█████████████████████           | 1.1 MB 17.8 MB/s eta 0:00:01\r\u001b[K     |█████████████████████▏          | 1.2 MB 17.8 MB/s eta 0:00:01\r\u001b[K     |█████████████████████▍          | 1.2 MB 17.8 MB/s eta 0:00:01\r\u001b[K     |█████████████████████▋          | 1.2 MB 17.8 MB/s eta 0:00:01\r\u001b[K     |█████████████████████▉          | 1.2 MB 17.8 MB/s eta 0:00:01\r\u001b[K     |██████████████████████          | 1.2 MB 17.8 MB/s eta 0:00:01\r\u001b[K     |██████████████████████▏         | 1.2 MB 17.8 MB/s eta 0:00:01\r\u001b[K     |██████████████████████▍         | 1.2 MB 17.8 MB/s eta 0:00:01\r\u001b[K     |██████████████████████▌         | 1.2 MB 17.8 MB/s eta 0:00:01\r\u001b[K     |██████████████████████▊         | 1.2 MB 17.8 MB/s eta 0:00:01\r\u001b[K     |███████████████████████         | 1.2 MB 17.8 MB/s eta 0:00:01\r\u001b[K     |███████████████████████         | 1.3 MB 17.8 MB/s eta 0:00:01\r\u001b[K     |███████████████████████▎        | 1.3 MB 17.8 MB/s eta 0:00:01\r\u001b[K     |███████████████████████▌        | 1.3 MB 17.8 MB/s eta 0:00:01\r\u001b[K     |███████████████████████▋        | 1.3 MB 17.8 MB/s eta 0:00:01\r\u001b[K     |███████████████████████▉        | 1.3 MB 17.8 MB/s eta 0:00:01\r\u001b[K     |████████████████████████        | 1.3 MB 17.8 MB/s eta 0:00:01\r\u001b[K     |████████████████████████▎       | 1.3 MB 17.8 MB/s eta 0:00:01\r\u001b[K     |████████████████████████▍       | 1.3 MB 17.8 MB/s eta 0:00:01\r\u001b[K     |████████████████████████▋       | 1.3 MB 17.8 MB/s eta 0:00:01\r\u001b[K     |████████████████████████▉       | 1.4 MB 17.8 MB/s eta 0:00:01\r\u001b[K     |█████████████████████████       | 1.4 MB 17.8 MB/s eta 0:00:01\r\u001b[K     |█████████████████████████▏      | 1.4 MB 17.8 MB/s eta 0:00:01\r\u001b[K     |█████████████████████████▍      | 1.4 MB 17.8 MB/s eta 0:00:01\r\u001b[K     |█████████████████████████▌      | 1.4 MB 17.8 MB/s eta 0:00:01\r\u001b[K     |█████████████████████████▊      | 1.4 MB 17.8 MB/s eta 0:00:01\r\u001b[K     |██████████████████████████      | 1.4 MB 17.8 MB/s eta 0:00:01\r\u001b[K     |██████████████████████████      | 1.4 MB 17.8 MB/s eta 0:00:01\r\u001b[K     |██████████████████████████▎     | 1.4 MB 17.8 MB/s eta 0:00:01\r\u001b[K     |██████████████████████████▌     | 1.4 MB 17.8 MB/s eta 0:00:01\r\u001b[K     |██████████████████████████▊     | 1.5 MB 17.8 MB/s eta 0:00:01\r\u001b[K     |██████████████████████████▉     | 1.5 MB 17.8 MB/s eta 0:00:01\r\u001b[K     |███████████████████████████     | 1.5 MB 17.8 MB/s eta 0:00:01\r\u001b[K     |███████████████████████████▎    | 1.5 MB 17.8 MB/s eta 0:00:01\r\u001b[K     |███████████████████████████▍    | 1.5 MB 17.8 MB/s eta 0:00:01\r\u001b[K     |███████████████████████████▋    | 1.5 MB 17.8 MB/s eta 0:00:01\r\u001b[K     |███████████████████████████▉    | 1.5 MB 17.8 MB/s eta 0:00:01\r\u001b[K     |████████████████████████████    | 1.5 MB 17.8 MB/s eta 0:00:01\r\u001b[K     |████████████████████████████▏   | 1.5 MB 17.8 MB/s eta 0:00:01\r\u001b[K     |████████████████████████████▍   | 1.5 MB 17.8 MB/s eta 0:00:01\r\u001b[K     |████████████████████████████▌   | 1.6 MB 17.8 MB/s eta 0:00:01\r\u001b[K     |████████████████████████████▊   | 1.6 MB 17.8 MB/s eta 0:00:01\r\u001b[K     |█████████████████████████████   | 1.6 MB 17.8 MB/s eta 0:00:01\r\u001b[K     |█████████████████████████████   | 1.6 MB 17.8 MB/s eta 0:00:01\r\u001b[K     |█████████████████████████████▎  | 1.6 MB 17.8 MB/s eta 0:00:01\r\u001b[K     |█████████████████████████████▌  | 1.6 MB 17.8 MB/s eta 0:00:01\r\u001b[K     |█████████████████████████████▊  | 1.6 MB 17.8 MB/s eta 0:00:01\r\u001b[K     |█████████████████████████████▉  | 1.6 MB 17.8 MB/s eta 0:00:01\r\u001b[K     |██████████████████████████████  | 1.6 MB 17.8 MB/s eta 0:00:01\r\u001b[K     |██████████████████████████████▎ | 1.6 MB 17.8 MB/s eta 0:00:01\r\u001b[K     |██████████████████████████████▍ | 1.7 MB 17.8 MB/s eta 0:00:01\r\u001b[K     |██████████████████████████████▋ | 1.7 MB 17.8 MB/s eta 0:00:01\r\u001b[K     |██████████████████████████████▉ | 1.7 MB 17.8 MB/s eta 0:00:01\r\u001b[K     |███████████████████████████████ | 1.7 MB 17.8 MB/s eta 0:00:01\r\u001b[K     |███████████████████████████████▏| 1.7 MB 17.8 MB/s eta 0:00:01\r\u001b[K     |███████████████████████████████▍| 1.7 MB 17.8 MB/s eta 0:00:01\r\u001b[K     |███████████████████████████████▌| 1.7 MB 17.8 MB/s eta 0:00:01\r\u001b[K     |███████████████████████████████▊| 1.7 MB 17.8 MB/s eta 0:00:01\r\u001b[K     |████████████████████████████████| 1.7 MB 17.8 MB/s eta 0:00:01\r\u001b[K     |████████████████████████████████| 1.7 MB 17.8 MB/s \n",
            "\u001b[?25hRequirement already satisfied: PyYAML in /usr/local/lib/python3.7/dist-packages (from wandb) (6.0)\n",
            "Requirement already satisfied: Click!=8.0.0,>=7.0 in /usr/local/lib/python3.7/dist-packages (from wandb) (7.1.2)\n",
            "Requirement already satisfied: requests<3,>=2.0.0 in /usr/local/lib/python3.7/dist-packages (from wandb) (2.23.0)\n",
            "Requirement already satisfied: protobuf>=3.12.0 in /usr/local/lib/python3.7/dist-packages (from wandb) (3.17.3)\n",
            "Requirement already satisfied: six>=1.13.0 in /usr/local/lib/python3.7/dist-packages (from wandb) (1.15.0)\n",
            "Collecting setproctitle\n",
            "  Downloading setproctitle-1.2.2-cp37-cp37m-manylinux1_x86_64.whl (36 kB)\n",
            "Collecting sentry-sdk>=1.0.0\n",
            "  Downloading sentry_sdk-1.5.8-py2.py3-none-any.whl (144 kB)\n",
            "\u001b[K     |████████████████████████████████| 144 kB 75.7 MB/s \n",
            "\u001b[?25hCollecting docker-pycreds>=0.4.0\n",
            "  Downloading docker_pycreds-0.4.0-py2.py3-none-any.whl (9.0 kB)\n",
            "Requirement already satisfied: promise<3,>=2.0 in /usr/local/lib/python3.7/dist-packages (from wandb) (2.3)\n",
            "Collecting yaspin>=1.0.0\n",
            "  Downloading yaspin-2.1.0-py3-none-any.whl (18 kB)\n",
            "Requirement already satisfied: python-dateutil>=2.6.1 in /usr/local/lib/python3.7/dist-packages (from wandb) (2.8.2)\n",
            "Collecting pathtools\n",
            "  Downloading pathtools-0.1.2.tar.gz (11 kB)\n",
            "Requirement already satisfied: psutil>=5.0.0 in /usr/local/lib/python3.7/dist-packages (from wandb) (5.4.8)\n",
            "Collecting shortuuid>=0.5.0\n",
            "  Downloading shortuuid-1.0.8-py3-none-any.whl (9.5 kB)\n",
            "Collecting GitPython>=1.0.0\n",
            "  Downloading GitPython-3.1.27-py3-none-any.whl (181 kB)\n",
            "\u001b[K     |████████████████████████████████| 181 kB 54.4 MB/s \n",
            "\u001b[?25hRequirement already satisfied: typing-extensions>=3.7.4.3 in /usr/local/lib/python3.7/dist-packages (from GitPython>=1.0.0->wandb) (3.10.0.2)\n",
            "Collecting gitdb<5,>=4.0.1\n",
            "  Downloading gitdb-4.0.9-py3-none-any.whl (63 kB)\n",
            "\u001b[K     |████████████████████████████████| 63 kB 1.9 MB/s \n",
            "\u001b[?25hCollecting smmap<6,>=3.0.1\n",
            "  Downloading smmap-5.0.0-py3-none-any.whl (24 kB)\n",
            "Requirement already satisfied: certifi>=2017.4.17 in /usr/local/lib/python3.7/dist-packages (from requests<3,>=2.0.0->wandb) (2021.10.8)\n",
            "Requirement already satisfied: chardet<4,>=3.0.2 in /usr/local/lib/python3.7/dist-packages (from requests<3,>=2.0.0->wandb) (3.0.4)\n",
            "Requirement already satisfied: idna<3,>=2.5 in /usr/local/lib/python3.7/dist-packages (from requests<3,>=2.0.0->wandb) (2.10)\n",
            "Requirement already satisfied: urllib3!=1.25.0,!=1.25.1,<1.26,>=1.21.1 in /usr/local/lib/python3.7/dist-packages (from requests<3,>=2.0.0->wandb) (1.24.3)\n",
            "Requirement already satisfied: termcolor<2.0.0,>=1.1.0 in /usr/local/lib/python3.7/dist-packages (from yaspin>=1.0.0->wandb) (1.1.0)\n",
            "Building wheels for collected packages: pathtools\n",
            "  Building wheel for pathtools (setup.py) ... \u001b[?25l\u001b[?25hdone\n",
            "  Created wheel for pathtools: filename=pathtools-0.1.2-py3-none-any.whl size=8806 sha256=ee31b82b4d6b598af770120cef049e280cc339c3d9fad72ecaf77f37e8d77a1d\n",
            "  Stored in directory: /root/.cache/pip/wheels/3e/31/09/fa59cef12cdcfecc627b3d24273699f390e71828921b2cbba2\n",
            "Successfully built pathtools\n",
            "Installing collected packages: smmap, gitdb, yaspin, shortuuid, setproctitle, sentry-sdk, pathtools, GitPython, docker-pycreds, wandb\n",
            "Successfully installed GitPython-3.1.27 docker-pycreds-0.4.0 gitdb-4.0.9 pathtools-0.1.2 sentry-sdk-1.5.8 setproctitle-1.2.2 shortuuid-1.0.8 smmap-5.0.0 wandb-0.12.11 yaspin-2.1.0\n"
          ]
        }
      ]
    },
    {
      "cell_type": "code",
      "source": [
        "!wandb login"
      ],
      "metadata": {
        "colab": {
          "base_uri": "https://localhost:8080/"
        },
        "id": "2dtkeL4xWLuX",
        "outputId": "59397488-52df-46ee-f5b0-46d210150eb6"
      },
      "execution_count": 10,
      "outputs": [
        {
          "output_type": "stream",
          "name": "stdout",
          "text": [
            "\u001b[34m\u001b[1mwandb\u001b[0m: You can find your API key in your browser here: https://wandb.ai/authorize\n",
            "\u001b[34m\u001b[1mwandb\u001b[0m: Paste an API key from your profile and hit enter, or press ctrl+c to quit: \n",
            "\u001b[34m\u001b[1mwandb\u001b[0m: Appending key for api.wandb.ai to your netrc file: /root/.netrc\n"
          ]
        }
      ]
    },
    {
      "cell_type": "code",
      "source": [
        "import os\n",
        "import pdb\n",
        "import argparse\n",
        "from dataclasses import dataclass, field\n",
        "from typing import Optional\n",
        "from collections import defaultdict\n",
        "\n",
        "import torch\n",
        "from torch.nn.utils.rnn import pad_sequence\n",
        "\n",
        "import numpy as np\n",
        "from tqdm import tqdm, trange\n",
        "\n",
        "from transformers import (\n",
        "    BertForSequenceClassification,\n",
        "    BertTokenizer,\n",
        "    AutoConfig,\n",
        "    AdamW\n",
        ")\n",
        "import math"
      ],
      "metadata": {
        "id": "AAdLxrUZrvgP"
      },
      "execution_count": 6,
      "outputs": []
    },
    {
      "cell_type": "markdown",
      "source": [
        "# 1. Preprocess"
      ],
      "metadata": {
        "id": "ASWOOmXqrvgQ"
      }
    },
    {
      "cell_type": "code",
      "source": [
        "def make_id_file(task, tokenizer):\n",
        "    def make_data_strings(file_name):\n",
        "        data_strings = []\n",
        "        with open(os.path.join(file_name), 'r', encoding='utf-8') as f:\n",
        "            id_file_data = [tokenizer.encode(line.lower()) for line in f.readlines()]\n",
        "        for item in id_file_data:\n",
        "            data_strings.append(' '.join([str(k) for k in item]))\n",
        "        return data_strings\n",
        "    \n",
        "    print('it will take some times...')\n",
        "    train_pos = make_data_strings('sentiment.train.1')\n",
        "    train_neg = make_data_strings('sentiment.train.0')\n",
        "    dev_pos = make_data_strings('sentiment.dev.1')\n",
        "    dev_neg = make_data_strings('sentiment.dev.0')\n",
        "\n",
        "    print('make id file finished!')\n",
        "    return train_pos, train_neg, dev_pos, dev_neg"
      ],
      "metadata": {
        "id": "RAnU6w29rvgR"
      },
      "execution_count": 7,
      "outputs": []
    },
    {
      "cell_type": "code",
      "source": [
        "tokenizer = BertTokenizer.from_pretrained('bert-base-uncased')"
      ],
      "metadata": {
        "id": "Ui2HOCflrvgR",
        "outputId": "701d168e-3c43-475f-eea4-886b48e4954a",
        "colab": {
          "base_uri": "https://localhost:8080/",
          "height": 113,
          "referenced_widgets": [
            "7a69b097252247829639f0d79de576f2",
            "04fce1015c7b48e5a10175dd6c680028",
            "3353b5f917274514a523601ec3fd4d40",
            "932f7a6ff881431ebad2ffbb34611fc9",
            "bc2d2acfae6f422b835e568c4916345f",
            "1e034563689543788499570a6c1ca94f",
            "d2e1e287124b465f81bae9a7b02dfa6a",
            "711214bb045b441ba42ed7cfba32130e",
            "defd2e39479f4a578e715bf0336b1540",
            "afd72f5dba434010ae1fb66b92abb206",
            "5fd6cae61385478bb64e7a2a0d3523b8",
            "057cc7028e74406eacaf392d958e3f9c",
            "54283fbf36ce4b8f87dc949ee0e7b56f",
            "dc6243bd4ca44922ab759288ba01b467",
            "55e5ba03c7564ea68034610fd1a94c3a",
            "4cf0f660014443b684cc7453bb8fd188",
            "fc1737ee488b4a448489e8a8bed91b90",
            "b46332d4f7f643518120beae00475d73",
            "9ac48415ec5944d981176d3047b61acb",
            "df47cd9ca12543009c2617060b293d39",
            "29d09edb12a84dbbba52234e03b7a725",
            "aa39000dd7a1413994317f4d0df56e31",
            "912f73d165fc4e9cb5eb85987e5e5990",
            "60a615ea6fba4ae194b192c1bae46373",
            "9ec563b8ff6640da9e6fe21548e2ea86",
            "eb4c78185f8d4f04be19a4dfe6d588a0",
            "bb97f6bc6b9a4ba49d3ebfb4e51a8ebb",
            "c216eb9bc6684dcc9f0d23ea04564bd7",
            "2f0626db75184c42be6bb2956a580373",
            "4f772e4519b04a61824e099c448c26b5",
            "3611abc2415b4c0891e782027d44ae61",
            "88dbcfc7f3994f03b6996d9f1170e000",
            "5c96928947a74903b2ddf3afd8da56fc"
          ]
        }
      },
      "execution_count": 8,
      "outputs": [
        {
          "output_type": "display_data",
          "data": {
            "text/plain": [
              "Downloading:   0%|          | 0.00/226k [00:00<?, ?B/s]"
            ],
            "application/vnd.jupyter.widget-view+json": {
              "version_major": 2,
              "version_minor": 0,
              "model_id": "7a69b097252247829639f0d79de576f2"
            }
          },
          "metadata": {}
        },
        {
          "output_type": "display_data",
          "data": {
            "text/plain": [
              "Downloading:   0%|          | 0.00/28.0 [00:00<?, ?B/s]"
            ],
            "application/vnd.jupyter.widget-view+json": {
              "version_major": 2,
              "version_minor": 0,
              "model_id": "057cc7028e74406eacaf392d958e3f9c"
            }
          },
          "metadata": {}
        },
        {
          "output_type": "display_data",
          "data": {
            "text/plain": [
              "Downloading:   0%|          | 0.00/570 [00:00<?, ?B/s]"
            ],
            "application/vnd.jupyter.widget-view+json": {
              "version_major": 2,
              "version_minor": 0,
              "model_id": "912f73d165fc4e9cb5eb85987e5e5990"
            }
          },
          "metadata": {}
        }
      ]
    },
    {
      "cell_type": "code",
      "source": [
        "#from google.colab import files\n",
        "#uploaded = files.upload()"
      ],
      "metadata": {
        "id": "4jVuK-V1uq3L"
      },
      "execution_count": null,
      "outputs": []
    },
    {
      "cell_type": "code",
      "source": [
        "!ls"
      ],
      "metadata": {
        "id": "ttzRlY4Ov0jZ",
        "outputId": "2b4eee93-2912-4fe1-9b87-b19f8f01c8e4",
        "colab": {
          "base_uri": "https://localhost:8080/"
        }
      },
      "execution_count": 12,
      "outputs": [
        {
          "output_type": "stream",
          "name": "stdout",
          "text": [
            "sample_data\t sentiment.dev.1    sentiment.train.1  wandb\n",
            "sentiment.dev.0  sentiment.train.0  test_no_label.csv\n"
          ]
        }
      ]
    },
    {
      "cell_type": "code",
      "source": [
        "train_pos, train_neg, dev_pos, dev_neg = make_id_file('yelp', tokenizer)"
      ],
      "metadata": {
        "id": "BAgztXIBrvgS",
        "outputId": "9cdb10cc-0b46-4501-bc76-39d1c278e722",
        "colab": {
          "base_uri": "https://localhost:8080/"
        }
      },
      "execution_count": 13,
      "outputs": [
        {
          "output_type": "stream",
          "name": "stdout",
          "text": [
            "it will take some times...\n",
            "make id file finished!\n"
          ]
        }
      ]
    },
    {
      "cell_type": "code",
      "source": [
        "train_pos[:10]"
      ],
      "metadata": {
        "id": "wRh2WjGRrvgS",
        "outputId": "489d3a47-499d-4632-d19f-1c05c3f9ac77",
        "colab": {
          "base_uri": "https://localhost:8080/"
        }
      },
      "execution_count": 14,
      "outputs": [
        {
          "output_type": "execute_result",
          "data": {
            "text/plain": [
              "['101 6581 2833 1012 102',\n",
              " '101 21688 8013 2326 1012 102',\n",
              " '101 2027 2036 2031 3679 19247 1998 3256 6949 2029 2003 2428 2204 1012 102',\n",
              " '101 2009 1005 1055 1037 2204 15174 2098 7570 22974 2063 1012 102',\n",
              " '101 1996 3095 2003 5379 1012 102',\n",
              " '101 2204 3347 2833 1012 102',\n",
              " '101 2204 2326 1012 102',\n",
              " '101 11350 1997 2154 2003 25628 1998 7167 1997 19247 1012 102',\n",
              " '101 2307 2173 2005 6265 2030 3347 27962 1998 5404 1012 102',\n",
              " '101 1996 2047 2846 3504 6429 1012 102']"
            ]
          },
          "metadata": {},
          "execution_count": 14
        }
      ]
    },
    {
      "cell_type": "code",
      "source": [
        "class SentimentDataset(object):\n",
        "    def __init__(self, tokenizer, pos, neg):\n",
        "        self.tokenizer = tokenizer\n",
        "        self.data = []\n",
        "        self.label = []\n",
        "\n",
        "        for pos_sent in pos:\n",
        "            self.data += [self._cast_to_int(pos_sent.strip().split())]\n",
        "            self.label += [[1]]\n",
        "        for neg_sent in neg:\n",
        "            self.data += [self._cast_to_int(neg_sent.strip().split())]\n",
        "            self.label += [[0]]\n",
        "\n",
        "    def _cast_to_int(self, sample):\n",
        "        return [int(word_id) for word_id in sample]\n",
        "\n",
        "    def __len__(self):\n",
        "        return len(self.data)\n",
        "\n",
        "    def __getitem__(self, index):\n",
        "        sample = self.data[index]\n",
        "        return np.array(sample), np.array(self.label[index])"
      ],
      "metadata": {
        "id": "JdpQQQMUrvgT"
      },
      "execution_count": 15,
      "outputs": []
    },
    {
      "cell_type": "code",
      "source": [
        "train_dataset = SentimentDataset(tokenizer, train_pos, train_neg)\n",
        "dev_dataset = SentimentDataset(tokenizer, dev_pos, dev_neg)"
      ],
      "metadata": {
        "id": "wCz5ey8xrvgU"
      },
      "execution_count": 16,
      "outputs": []
    },
    {
      "cell_type": "code",
      "source": [
        "for i, item in enumerate(train_dataset):\n",
        "    print(item)\n",
        "    if i == 10:\n",
        "        break"
      ],
      "metadata": {
        "id": "UuvkMczvrvgU",
        "outputId": "a3025805-e379-4382-9299-f646f6d2fbd3",
        "colab": {
          "base_uri": "https://localhost:8080/"
        }
      },
      "execution_count": 17,
      "outputs": [
        {
          "output_type": "stream",
          "name": "stdout",
          "text": [
            "(array([ 101, 6581, 2833, 1012,  102]), array([1]))\n",
            "(array([  101, 21688,  8013,  2326,  1012,   102]), array([1]))\n",
            "(array([  101,  2027,  2036,  2031,  3679, 19247,  1998,  3256,  6949,\n",
            "        2029,  2003,  2428,  2204,  1012,   102]), array([1]))\n",
            "(array([  101,  2009,  1005,  1055,  1037,  2204, 15174,  2098,  7570,\n",
            "       22974,  2063,  1012,   102]), array([1]))\n",
            "(array([ 101, 1996, 3095, 2003, 5379, 1012,  102]), array([1]))\n",
            "(array([ 101, 2204, 3347, 2833, 1012,  102]), array([1]))\n",
            "(array([ 101, 2204, 2326, 1012,  102]), array([1]))\n",
            "(array([  101, 11350,  1997,  2154,  2003, 25628,  1998,  7167,  1997,\n",
            "       19247,  1012,   102]), array([1]))\n",
            "(array([  101,  2307,  2173,  2005,  6265,  2030,  3347, 27962,  1998,\n",
            "        5404,  1012,   102]), array([1]))\n",
            "(array([ 101, 1996, 2047, 2846, 3504, 6429, 1012,  102]), array([1]))\n",
            "(array([ 101, 2023, 2173, 2001, 2200, 2204, 1012,  102]), array([1]))\n"
          ]
        }
      ]
    },
    {
      "cell_type": "code",
      "source": [
        "def collate_fn_style(samples):\n",
        "    input_ids, labels = zip(*samples)\n",
        "    max_len = max(len(input_id) for input_id in input_ids)\n",
        "    sorted_indices = np.argsort([len(input_id) for input_id in input_ids])[::-1]\n",
        "    attention_mask = torch.tensor(\n",
        "        [[1] * len(input_ids[index]) + [0] * (max_len - len(input_ids[index])) for index in\n",
        "         sorted_indices])\n",
        "    input_ids = pad_sequence([torch.tensor(input_ids[index]) for index in sorted_indices],\n",
        "                             batch_first=True)  # input padding과 attention 마스크 순서 바꿈\n",
        "    token_type_ids = torch.tensor([[0] * len(input_ids[index]) for index in sorted_indices])\n",
        "    position_ids = torch.tensor([list(range(len(input_ids[index]))) for index in sorted_indices])\n",
        "    labels = torch.tensor(np.stack(labels, axis=0)[sorted_indices])\n",
        "\n",
        "    return input_ids, attention_mask, token_type_ids, position_ids, labels"
      ],
      "metadata": {
        "id": "B0wRUBYSrvgU"
      },
      "execution_count": 30,
      "outputs": []
    },
    {
      "cell_type": "code",
      "source": [
        "#train_batch_size=32\n",
        "#eval_batch_size=64\n",
        "batch_size = 128  # batch size로 통일, 결과가 가장 좋다고함\n",
        "train_loader = torch.utils.data.DataLoader(train_dataset,\n",
        "                                           batch_size=batch_size,\n",
        "                                           shuffle=True, collate_fn=collate_fn_style,\n",
        "                                           pin_memory=True, num_workers=2)\n",
        "dev_loader = torch.utils.data.DataLoader(dev_dataset, batch_size=batch_size,\n",
        "                                         shuffle=False, collate_fn=collate_fn_style,\n",
        "                                         num_workers=2)"
      ],
      "metadata": {
        "id": "5saagig0rvgV"
      },
      "execution_count": 32,
      "outputs": []
    },
    {
      "cell_type": "code",
      "source": [
        "# random seed\n",
        "random_seed=42\n",
        "np.random.seed(random_seed)\n",
        "torch.manual_seed(random_seed)\n",
        "\n",
        "device = torch.device('cuda' if torch.cuda.is_available() else 'cpu')\n",
        "\n",
        "model = BertForSequenceClassification.from_pretrained('bert-base-uncased')\n",
        "model.to(device)"
      ],
      "metadata": {
        "id": "zvFqCaCnrvgW",
        "outputId": "f668dee4-821f-40b6-a258-76e459d522ff",
        "colab": {
          "base_uri": "https://localhost:8080/"
        }
      },
      "execution_count": 33,
      "outputs": [
        {
          "output_type": "stream",
          "name": "stderr",
          "text": [
            "Some weights of the model checkpoint at bert-base-uncased were not used when initializing BertForSequenceClassification: ['cls.predictions.transform.dense.bias', 'cls.predictions.bias', 'cls.predictions.transform.LayerNorm.bias', 'cls.predictions.decoder.weight', 'cls.predictions.transform.dense.weight', 'cls.seq_relationship.bias', 'cls.seq_relationship.weight', 'cls.predictions.transform.LayerNorm.weight']\n",
            "- This IS expected if you are initializing BertForSequenceClassification from the checkpoint of a model trained on another task or with another architecture (e.g. initializing a BertForSequenceClassification model from a BertForPreTraining model).\n",
            "- This IS NOT expected if you are initializing BertForSequenceClassification from the checkpoint of a model that you expect to be exactly identical (initializing a BertForSequenceClassification model from a BertForSequenceClassification model).\n",
            "Some weights of BertForSequenceClassification were not initialized from the model checkpoint at bert-base-uncased and are newly initialized: ['classifier.bias', 'classifier.weight']\n",
            "You should probably TRAIN this model on a down-stream task to be able to use it for predictions and inference.\n"
          ]
        },
        {
          "output_type": "execute_result",
          "data": {
            "text/plain": [
              "BertForSequenceClassification(\n",
              "  (bert): BertModel(\n",
              "    (embeddings): BertEmbeddings(\n",
              "      (word_embeddings): Embedding(30522, 768, padding_idx=0)\n",
              "      (position_embeddings): Embedding(512, 768)\n",
              "      (token_type_embeddings): Embedding(2, 768)\n",
              "      (LayerNorm): LayerNorm((768,), eps=1e-12, elementwise_affine=True)\n",
              "      (dropout): Dropout(p=0.1, inplace=False)\n",
              "    )\n",
              "    (encoder): BertEncoder(\n",
              "      (layer): ModuleList(\n",
              "        (0): BertLayer(\n",
              "          (attention): BertAttention(\n",
              "            (self): BertSelfAttention(\n",
              "              (query): Linear(in_features=768, out_features=768, bias=True)\n",
              "              (key): Linear(in_features=768, out_features=768, bias=True)\n",
              "              (value): Linear(in_features=768, out_features=768, bias=True)\n",
              "              (dropout): Dropout(p=0.1, inplace=False)\n",
              "            )\n",
              "            (output): BertSelfOutput(\n",
              "              (dense): Linear(in_features=768, out_features=768, bias=True)\n",
              "              (LayerNorm): LayerNorm((768,), eps=1e-12, elementwise_affine=True)\n",
              "              (dropout): Dropout(p=0.1, inplace=False)\n",
              "            )\n",
              "          )\n",
              "          (intermediate): BertIntermediate(\n",
              "            (dense): Linear(in_features=768, out_features=3072, bias=True)\n",
              "            (intermediate_act_fn): GELUActivation()\n",
              "          )\n",
              "          (output): BertOutput(\n",
              "            (dense): Linear(in_features=3072, out_features=768, bias=True)\n",
              "            (LayerNorm): LayerNorm((768,), eps=1e-12, elementwise_affine=True)\n",
              "            (dropout): Dropout(p=0.1, inplace=False)\n",
              "          )\n",
              "        )\n",
              "        (1): BertLayer(\n",
              "          (attention): BertAttention(\n",
              "            (self): BertSelfAttention(\n",
              "              (query): Linear(in_features=768, out_features=768, bias=True)\n",
              "              (key): Linear(in_features=768, out_features=768, bias=True)\n",
              "              (value): Linear(in_features=768, out_features=768, bias=True)\n",
              "              (dropout): Dropout(p=0.1, inplace=False)\n",
              "            )\n",
              "            (output): BertSelfOutput(\n",
              "              (dense): Linear(in_features=768, out_features=768, bias=True)\n",
              "              (LayerNorm): LayerNorm((768,), eps=1e-12, elementwise_affine=True)\n",
              "              (dropout): Dropout(p=0.1, inplace=False)\n",
              "            )\n",
              "          )\n",
              "          (intermediate): BertIntermediate(\n",
              "            (dense): Linear(in_features=768, out_features=3072, bias=True)\n",
              "            (intermediate_act_fn): GELUActivation()\n",
              "          )\n",
              "          (output): BertOutput(\n",
              "            (dense): Linear(in_features=3072, out_features=768, bias=True)\n",
              "            (LayerNorm): LayerNorm((768,), eps=1e-12, elementwise_affine=True)\n",
              "            (dropout): Dropout(p=0.1, inplace=False)\n",
              "          )\n",
              "        )\n",
              "        (2): BertLayer(\n",
              "          (attention): BertAttention(\n",
              "            (self): BertSelfAttention(\n",
              "              (query): Linear(in_features=768, out_features=768, bias=True)\n",
              "              (key): Linear(in_features=768, out_features=768, bias=True)\n",
              "              (value): Linear(in_features=768, out_features=768, bias=True)\n",
              "              (dropout): Dropout(p=0.1, inplace=False)\n",
              "            )\n",
              "            (output): BertSelfOutput(\n",
              "              (dense): Linear(in_features=768, out_features=768, bias=True)\n",
              "              (LayerNorm): LayerNorm((768,), eps=1e-12, elementwise_affine=True)\n",
              "              (dropout): Dropout(p=0.1, inplace=False)\n",
              "            )\n",
              "          )\n",
              "          (intermediate): BertIntermediate(\n",
              "            (dense): Linear(in_features=768, out_features=3072, bias=True)\n",
              "            (intermediate_act_fn): GELUActivation()\n",
              "          )\n",
              "          (output): BertOutput(\n",
              "            (dense): Linear(in_features=3072, out_features=768, bias=True)\n",
              "            (LayerNorm): LayerNorm((768,), eps=1e-12, elementwise_affine=True)\n",
              "            (dropout): Dropout(p=0.1, inplace=False)\n",
              "          )\n",
              "        )\n",
              "        (3): BertLayer(\n",
              "          (attention): BertAttention(\n",
              "            (self): BertSelfAttention(\n",
              "              (query): Linear(in_features=768, out_features=768, bias=True)\n",
              "              (key): Linear(in_features=768, out_features=768, bias=True)\n",
              "              (value): Linear(in_features=768, out_features=768, bias=True)\n",
              "              (dropout): Dropout(p=0.1, inplace=False)\n",
              "            )\n",
              "            (output): BertSelfOutput(\n",
              "              (dense): Linear(in_features=768, out_features=768, bias=True)\n",
              "              (LayerNorm): LayerNorm((768,), eps=1e-12, elementwise_affine=True)\n",
              "              (dropout): Dropout(p=0.1, inplace=False)\n",
              "            )\n",
              "          )\n",
              "          (intermediate): BertIntermediate(\n",
              "            (dense): Linear(in_features=768, out_features=3072, bias=True)\n",
              "            (intermediate_act_fn): GELUActivation()\n",
              "          )\n",
              "          (output): BertOutput(\n",
              "            (dense): Linear(in_features=3072, out_features=768, bias=True)\n",
              "            (LayerNorm): LayerNorm((768,), eps=1e-12, elementwise_affine=True)\n",
              "            (dropout): Dropout(p=0.1, inplace=False)\n",
              "          )\n",
              "        )\n",
              "        (4): BertLayer(\n",
              "          (attention): BertAttention(\n",
              "            (self): BertSelfAttention(\n",
              "              (query): Linear(in_features=768, out_features=768, bias=True)\n",
              "              (key): Linear(in_features=768, out_features=768, bias=True)\n",
              "              (value): Linear(in_features=768, out_features=768, bias=True)\n",
              "              (dropout): Dropout(p=0.1, inplace=False)\n",
              "            )\n",
              "            (output): BertSelfOutput(\n",
              "              (dense): Linear(in_features=768, out_features=768, bias=True)\n",
              "              (LayerNorm): LayerNorm((768,), eps=1e-12, elementwise_affine=True)\n",
              "              (dropout): Dropout(p=0.1, inplace=False)\n",
              "            )\n",
              "          )\n",
              "          (intermediate): BertIntermediate(\n",
              "            (dense): Linear(in_features=768, out_features=3072, bias=True)\n",
              "            (intermediate_act_fn): GELUActivation()\n",
              "          )\n",
              "          (output): BertOutput(\n",
              "            (dense): Linear(in_features=3072, out_features=768, bias=True)\n",
              "            (LayerNorm): LayerNorm((768,), eps=1e-12, elementwise_affine=True)\n",
              "            (dropout): Dropout(p=0.1, inplace=False)\n",
              "          )\n",
              "        )\n",
              "        (5): BertLayer(\n",
              "          (attention): BertAttention(\n",
              "            (self): BertSelfAttention(\n",
              "              (query): Linear(in_features=768, out_features=768, bias=True)\n",
              "              (key): Linear(in_features=768, out_features=768, bias=True)\n",
              "              (value): Linear(in_features=768, out_features=768, bias=True)\n",
              "              (dropout): Dropout(p=0.1, inplace=False)\n",
              "            )\n",
              "            (output): BertSelfOutput(\n",
              "              (dense): Linear(in_features=768, out_features=768, bias=True)\n",
              "              (LayerNorm): LayerNorm((768,), eps=1e-12, elementwise_affine=True)\n",
              "              (dropout): Dropout(p=0.1, inplace=False)\n",
              "            )\n",
              "          )\n",
              "          (intermediate): BertIntermediate(\n",
              "            (dense): Linear(in_features=768, out_features=3072, bias=True)\n",
              "            (intermediate_act_fn): GELUActivation()\n",
              "          )\n",
              "          (output): BertOutput(\n",
              "            (dense): Linear(in_features=3072, out_features=768, bias=True)\n",
              "            (LayerNorm): LayerNorm((768,), eps=1e-12, elementwise_affine=True)\n",
              "            (dropout): Dropout(p=0.1, inplace=False)\n",
              "          )\n",
              "        )\n",
              "        (6): BertLayer(\n",
              "          (attention): BertAttention(\n",
              "            (self): BertSelfAttention(\n",
              "              (query): Linear(in_features=768, out_features=768, bias=True)\n",
              "              (key): Linear(in_features=768, out_features=768, bias=True)\n",
              "              (value): Linear(in_features=768, out_features=768, bias=True)\n",
              "              (dropout): Dropout(p=0.1, inplace=False)\n",
              "            )\n",
              "            (output): BertSelfOutput(\n",
              "              (dense): Linear(in_features=768, out_features=768, bias=True)\n",
              "              (LayerNorm): LayerNorm((768,), eps=1e-12, elementwise_affine=True)\n",
              "              (dropout): Dropout(p=0.1, inplace=False)\n",
              "            )\n",
              "          )\n",
              "          (intermediate): BertIntermediate(\n",
              "            (dense): Linear(in_features=768, out_features=3072, bias=True)\n",
              "            (intermediate_act_fn): GELUActivation()\n",
              "          )\n",
              "          (output): BertOutput(\n",
              "            (dense): Linear(in_features=3072, out_features=768, bias=True)\n",
              "            (LayerNorm): LayerNorm((768,), eps=1e-12, elementwise_affine=True)\n",
              "            (dropout): Dropout(p=0.1, inplace=False)\n",
              "          )\n",
              "        )\n",
              "        (7): BertLayer(\n",
              "          (attention): BertAttention(\n",
              "            (self): BertSelfAttention(\n",
              "              (query): Linear(in_features=768, out_features=768, bias=True)\n",
              "              (key): Linear(in_features=768, out_features=768, bias=True)\n",
              "              (value): Linear(in_features=768, out_features=768, bias=True)\n",
              "              (dropout): Dropout(p=0.1, inplace=False)\n",
              "            )\n",
              "            (output): BertSelfOutput(\n",
              "              (dense): Linear(in_features=768, out_features=768, bias=True)\n",
              "              (LayerNorm): LayerNorm((768,), eps=1e-12, elementwise_affine=True)\n",
              "              (dropout): Dropout(p=0.1, inplace=False)\n",
              "            )\n",
              "          )\n",
              "          (intermediate): BertIntermediate(\n",
              "            (dense): Linear(in_features=768, out_features=3072, bias=True)\n",
              "            (intermediate_act_fn): GELUActivation()\n",
              "          )\n",
              "          (output): BertOutput(\n",
              "            (dense): Linear(in_features=3072, out_features=768, bias=True)\n",
              "            (LayerNorm): LayerNorm((768,), eps=1e-12, elementwise_affine=True)\n",
              "            (dropout): Dropout(p=0.1, inplace=False)\n",
              "          )\n",
              "        )\n",
              "        (8): BertLayer(\n",
              "          (attention): BertAttention(\n",
              "            (self): BertSelfAttention(\n",
              "              (query): Linear(in_features=768, out_features=768, bias=True)\n",
              "              (key): Linear(in_features=768, out_features=768, bias=True)\n",
              "              (value): Linear(in_features=768, out_features=768, bias=True)\n",
              "              (dropout): Dropout(p=0.1, inplace=False)\n",
              "            )\n",
              "            (output): BertSelfOutput(\n",
              "              (dense): Linear(in_features=768, out_features=768, bias=True)\n",
              "              (LayerNorm): LayerNorm((768,), eps=1e-12, elementwise_affine=True)\n",
              "              (dropout): Dropout(p=0.1, inplace=False)\n",
              "            )\n",
              "          )\n",
              "          (intermediate): BertIntermediate(\n",
              "            (dense): Linear(in_features=768, out_features=3072, bias=True)\n",
              "            (intermediate_act_fn): GELUActivation()\n",
              "          )\n",
              "          (output): BertOutput(\n",
              "            (dense): Linear(in_features=3072, out_features=768, bias=True)\n",
              "            (LayerNorm): LayerNorm((768,), eps=1e-12, elementwise_affine=True)\n",
              "            (dropout): Dropout(p=0.1, inplace=False)\n",
              "          )\n",
              "        )\n",
              "        (9): BertLayer(\n",
              "          (attention): BertAttention(\n",
              "            (self): BertSelfAttention(\n",
              "              (query): Linear(in_features=768, out_features=768, bias=True)\n",
              "              (key): Linear(in_features=768, out_features=768, bias=True)\n",
              "              (value): Linear(in_features=768, out_features=768, bias=True)\n",
              "              (dropout): Dropout(p=0.1, inplace=False)\n",
              "            )\n",
              "            (output): BertSelfOutput(\n",
              "              (dense): Linear(in_features=768, out_features=768, bias=True)\n",
              "              (LayerNorm): LayerNorm((768,), eps=1e-12, elementwise_affine=True)\n",
              "              (dropout): Dropout(p=0.1, inplace=False)\n",
              "            )\n",
              "          )\n",
              "          (intermediate): BertIntermediate(\n",
              "            (dense): Linear(in_features=768, out_features=3072, bias=True)\n",
              "            (intermediate_act_fn): GELUActivation()\n",
              "          )\n",
              "          (output): BertOutput(\n",
              "            (dense): Linear(in_features=3072, out_features=768, bias=True)\n",
              "            (LayerNorm): LayerNorm((768,), eps=1e-12, elementwise_affine=True)\n",
              "            (dropout): Dropout(p=0.1, inplace=False)\n",
              "          )\n",
              "        )\n",
              "        (10): BertLayer(\n",
              "          (attention): BertAttention(\n",
              "            (self): BertSelfAttention(\n",
              "              (query): Linear(in_features=768, out_features=768, bias=True)\n",
              "              (key): Linear(in_features=768, out_features=768, bias=True)\n",
              "              (value): Linear(in_features=768, out_features=768, bias=True)\n",
              "              (dropout): Dropout(p=0.1, inplace=False)\n",
              "            )\n",
              "            (output): BertSelfOutput(\n",
              "              (dense): Linear(in_features=768, out_features=768, bias=True)\n",
              "              (LayerNorm): LayerNorm((768,), eps=1e-12, elementwise_affine=True)\n",
              "              (dropout): Dropout(p=0.1, inplace=False)\n",
              "            )\n",
              "          )\n",
              "          (intermediate): BertIntermediate(\n",
              "            (dense): Linear(in_features=768, out_features=3072, bias=True)\n",
              "            (intermediate_act_fn): GELUActivation()\n",
              "          )\n",
              "          (output): BertOutput(\n",
              "            (dense): Linear(in_features=3072, out_features=768, bias=True)\n",
              "            (LayerNorm): LayerNorm((768,), eps=1e-12, elementwise_affine=True)\n",
              "            (dropout): Dropout(p=0.1, inplace=False)\n",
              "          )\n",
              "        )\n",
              "        (11): BertLayer(\n",
              "          (attention): BertAttention(\n",
              "            (self): BertSelfAttention(\n",
              "              (query): Linear(in_features=768, out_features=768, bias=True)\n",
              "              (key): Linear(in_features=768, out_features=768, bias=True)\n",
              "              (value): Linear(in_features=768, out_features=768, bias=True)\n",
              "              (dropout): Dropout(p=0.1, inplace=False)\n",
              "            )\n",
              "            (output): BertSelfOutput(\n",
              "              (dense): Linear(in_features=768, out_features=768, bias=True)\n",
              "              (LayerNorm): LayerNorm((768,), eps=1e-12, elementwise_affine=True)\n",
              "              (dropout): Dropout(p=0.1, inplace=False)\n",
              "            )\n",
              "          )\n",
              "          (intermediate): BertIntermediate(\n",
              "            (dense): Linear(in_features=768, out_features=3072, bias=True)\n",
              "            (intermediate_act_fn): GELUActivation()\n",
              "          )\n",
              "          (output): BertOutput(\n",
              "            (dense): Linear(in_features=3072, out_features=768, bias=True)\n",
              "            (LayerNorm): LayerNorm((768,), eps=1e-12, elementwise_affine=True)\n",
              "            (dropout): Dropout(p=0.1, inplace=False)\n",
              "          )\n",
              "        )\n",
              "      )\n",
              "    )\n",
              "    (pooler): BertPooler(\n",
              "      (dense): Linear(in_features=768, out_features=768, bias=True)\n",
              "      (activation): Tanh()\n",
              "    )\n",
              "  )\n",
              "  (dropout): Dropout(p=0.1, inplace=False)\n",
              "  (classifier): Linear(in_features=768, out_features=2, bias=True)\n",
              ")"
            ]
          },
          "metadata": {},
          "execution_count": 33
        }
      ]
    },
    {
      "cell_type": "code",
      "source": [
        "import wandb  # wandb 추가\n",
        "\n",
        "wandb.init(project=\"my-test-project\", entity='kompactss',\n",
        "           config = {\n",
        "  \"lr\": 5e-5,\n",
        "  \"epochs\": 3,\n",
        "})"
      ],
      "metadata": {
        "id": "dWwhmyMyrvgW",
        "outputId": "9fa24d01-b40d-47a9-85a7-47209fb39cdd",
        "colab": {
          "base_uri": "https://localhost:8080/",
          "height": 194,
          "referenced_widgets": [
            "d2266ef8fce54502b626e6f0e51750a3",
            "914db275060e48a79c01e9e94e0a4b52",
            "e1218dbb1aa64453bf85da5938e6afa0",
            "7023b7d515a2472c9d45d4d927cce2b9",
            "f949b9183378490cab7ac101bb497f6f",
            "2527fc9f420b4d4daba023fc8bdad4a1",
            "7e4c3fe712d5457ebc032edd3ddc260a",
            "eb537cf10d5f465bb64dabf5aa1aba68"
          ]
        }
      },
      "execution_count": 39,
      "outputs": [
        {
          "output_type": "display_data",
          "data": {
            "text/plain": [
              "<IPython.core.display.HTML object>"
            ],
            "text/html": [
              "Finishing last run (ID:1mbf29hr) before initializing another..."
            ]
          },
          "metadata": {}
        },
        {
          "output_type": "stream",
          "name": "stdout",
          "text": [
            "\n"
          ]
        },
        {
          "output_type": "display_data",
          "data": {
            "text/plain": [
              "<IPython.core.display.HTML object>"
            ],
            "text/html": [
              "Waiting for W&B process to finish... <strong style=\"color:green\">(success).</strong>"
            ]
          },
          "metadata": {}
        },
        {
          "output_type": "display_data",
          "data": {
            "text/plain": [
              "VBox(children=(Label(value='0.001 MB of 0.001 MB uploaded (0.000 MB deduped)\\r'), FloatProgress(value=1.0, max…"
            ],
            "application/vnd.jupyter.widget-view+json": {
              "version_major": 2,
              "version_minor": 0,
              "model_id": "d2266ef8fce54502b626e6f0e51750a3"
            }
          },
          "metadata": {}
        },
        {
          "output_type": "display_data",
          "data": {
            "text/plain": [
              "<IPython.core.display.HTML object>"
            ],
            "text/html": [
              "Synced <strong style=\"color:#cdcd00\">skilled-snow-2</strong>: <a href=\"https://wandb.ai/kompactss/my-test-project/runs/1mbf29hr\" target=\"_blank\">https://wandb.ai/kompactss/my-test-project/runs/1mbf29hr</a><br/>Synced 5 W&B file(s), 0 media file(s), 0 artifact file(s) and 0 other file(s)"
            ]
          },
          "metadata": {}
        },
        {
          "output_type": "display_data",
          "data": {
            "text/plain": [
              "<IPython.core.display.HTML object>"
            ],
            "text/html": [
              "Find logs at: <code>./wandb/run-20220329_022210-1mbf29hr/logs</code>"
            ]
          },
          "metadata": {}
        },
        {
          "output_type": "display_data",
          "data": {
            "text/plain": [
              "<IPython.core.display.HTML object>"
            ],
            "text/html": [
              "Successfully finished last run (ID:1mbf29hr). Initializing new run:<br/>"
            ]
          },
          "metadata": {}
        },
        {
          "output_type": "display_data",
          "data": {
            "text/plain": [
              "<IPython.core.display.HTML object>"
            ],
            "text/html": [
              "Tracking run with wandb version 0.12.11"
            ]
          },
          "metadata": {}
        },
        {
          "output_type": "display_data",
          "data": {
            "text/plain": [
              "<IPython.core.display.HTML object>"
            ],
            "text/html": [
              "Run data is saved locally in <code>/content/wandb/run-20220329_023425-3n9mkwqr</code>"
            ]
          },
          "metadata": {}
        },
        {
          "output_type": "display_data",
          "data": {
            "text/plain": [
              "<IPython.core.display.HTML object>"
            ],
            "text/html": [
              "Syncing run <strong><a href=\"https://wandb.ai/kompactss/my-test-project/runs/3n9mkwqr\" target=\"_blank\">upbeat-aardvark-3</a></strong> to <a href=\"https://wandb.ai/kompactss/my-test-project\" target=\"_blank\">Weights & Biases</a> (<a href=\"https://wandb.me/run\" target=\"_blank\">docs</a>)<br/>"
            ]
          },
          "metadata": {}
        }
      ]
    },
    {
      "cell_type": "code",
      "source": [
        "config = wandb.config"
      ],
      "metadata": {
        "id": "3P6Db19Shb1r"
      },
      "execution_count": 41,
      "outputs": []
    },
    {
      "cell_type": "code",
      "source": [
        "model.train()\n",
        "learning_rate = 5e-5\n",
        "optimizer = AdamW(model.parameters(), lr=learning_rate)"
      ],
      "metadata": {
        "colab": {
          "base_uri": "https://localhost:8080/"
        },
        "id": "bC79W49PhJbn",
        "outputId": "2c951d3c-ea80-4ed5-e029-47327a0340b5"
      },
      "execution_count": 43,
      "outputs": [
        {
          "output_type": "stream",
          "name": "stderr",
          "text": [
            "/usr/local/lib/python3.7/dist-packages/transformers/optimization.py:309: FutureWarning: This implementation of AdamW is deprecated and will be removed in a future version. Use the PyTorch implementation torch.optim.AdamW instead, or set `no_deprecation_warning=True` to disable this warning\n",
            "  FutureWarning,\n"
          ]
        }
      ]
    },
    {
      "cell_type": "code",
      "source": [
        "def compute_acc(predictions, target_labels):\n",
        "    return (np.array(predictions) == np.array(target_labels)).mean()"
      ],
      "metadata": {
        "id": "MztU-L83rvgW"
      },
      "execution_count": 44,
      "outputs": []
    },
    {
      "cell_type": "code",
      "source": [
        "train_epoch = 3\n",
        "lowest_valid_loss = 9999.\n",
        "for epoch in range(train_epoch):  # train_epoch -> wandb.config.epochs 로 변경(취소)\n",
        "    with tqdm(train_loader, unit=\"batch\") as tepoch:\n",
        "        for iteration, (input_ids, attention_mask, token_type_ids, position_ids, labels) in enumerate(tepoch):\n",
        "            tepoch.set_description(f\"Epoch {epoch+1}\") # epoch 수가 헷갈려서 1 더함\n",
        "            input_ids = input_ids.to(device)\n",
        "            attention_mask = attention_mask.to(device)\n",
        "            token_type_ids = token_type_ids.to(device)\n",
        "            position_ids = position_ids.to(device)\n",
        "            labels = labels.to(device, dtype=torch.long)\n",
        "\n",
        "            optimizer.zero_grad()\n",
        "\n",
        "            output = model(input_ids=input_ids,\n",
        "                           attention_mask=attention_mask,\n",
        "                           token_type_ids=token_type_ids,\n",
        "                           position_ids=position_ids,\n",
        "                           labels=labels)\n",
        "\n",
        "            loss = output.loss\n",
        "            loss.backward()\n",
        "\n",
        "            optimizer.step()\n",
        "\n",
        "            tepoch.set_postfix(loss=loss.item())\n",
        "            wandb.log({\"loss\":loss})  # wandb 로그 추가(loss)\n",
        "            if iteration != 0 and iteration % int(len(train_loader) / 5) == 0:\n",
        "                # Evaluate the model five times per epoch\n",
        "                with torch.no_grad():\n",
        "                    model.eval()\n",
        "                    valid_losses = []\n",
        "                    predictions = []\n",
        "                    target_labels = []\n",
        "                    for input_ids, attention_mask, token_type_ids, position_ids, labels in tqdm(dev_loader,\n",
        "                                                                                                desc='Eval',\n",
        "                                                                                                position=1,\n",
        "                                                                                                leave=None):\n",
        "                        input_ids = input_ids.to(device)\n",
        "                        attention_mask = attention_mask.to(device)\n",
        "                        token_type_ids = token_type_ids.to(device)\n",
        "                        position_ids = position_ids.to(device)\n",
        "                        labels = labels.to(device, dtype=torch.long)\n",
        "\n",
        "                        output = model(input_ids=input_ids,\n",
        "                                       attention_mask=attention_mask,\n",
        "                                       token_type_ids=token_type_ids,\n",
        "                                       position_ids=position_ids,\n",
        "                                       labels=labels)\n",
        "\n",
        "                        logits = output.logits\n",
        "                        loss = output.loss\n",
        "                        valid_losses.append(loss.item())\n",
        "\n",
        "                        batch_predictions = [0 if example[0] > example[1] else 1 for example in logits]\n",
        "                        batch_labels = [int(example) for example in labels]\n",
        "\n",
        "                        predictions += batch_predictions\n",
        "                        target_labels += batch_labels\n",
        "                model.train()  # model.eval()로 검증을 마친 후 학습모드로 다시 돌아가지 않음(결과는 차이 없음)  \n",
        "                acc = compute_acc(predictions, target_labels)\n",
        "                valid_loss = sum(valid_losses) / len(valid_losses)\n",
        "                if lowest_valid_loss > valid_loss:\n",
        "                    print('Acc for model which have lower valid loss: ', acc)\n",
        "                    wandb.log({\"accuracy\" : acc})  # wandb 로그 추가(accuracy)\n",
        "                    torch.save(model.state_dict(), \"./pytorch_model.bin\")"
      ],
      "metadata": {
        "id": "DuZfvzpGrvgW",
        "outputId": "a8dff825-47f9-49da-e7ae-d2855a1cf452",
        "colab": {
          "base_uri": "https://localhost:8080/"
        }
      },
      "execution_count": 45,
      "outputs": [
        {
          "output_type": "stream",
          "name": "stderr",
          "text": [
            "Epoch 1:  20%|█▉        | 692/3463 [01:45<06:56,  6.65batch/s, loss=0.0905]\n",
            "Eval:   0%|          | 0/32 [00:00<?, ?it/s]\u001b[A\n",
            "Eval:   3%|▎         | 1/32 [00:00<00:05,  5.97it/s]\u001b[A\n",
            "Eval:   9%|▉         | 3/32 [00:00<00:02, 12.20it/s]\u001b[A\n",
            "Eval:  16%|█▌        | 5/32 [00:00<00:01, 15.08it/s]\u001b[A\n",
            "Eval:  22%|██▏       | 7/32 [00:00<00:01, 16.66it/s]\u001b[A\n",
            "Eval:  28%|██▊       | 9/32 [00:00<00:01, 17.26it/s]\u001b[A\n",
            "Eval:  34%|███▍      | 11/32 [00:00<00:01, 18.11it/s]\u001b[A\n",
            "Eval:  41%|████      | 13/32 [00:00<00:01, 18.28it/s]\u001b[A\n",
            "Eval:  50%|█████     | 16/32 [00:00<00:00, 19.09it/s]\u001b[A\n",
            "Eval:  56%|█████▋    | 18/32 [00:01<00:00, 18.56it/s]\u001b[A\n",
            "Eval:  62%|██████▎   | 20/32 [00:01<00:00, 17.96it/s]\u001b[A\n",
            "Eval:  69%|██████▉   | 22/32 [00:01<00:00, 17.66it/s]\u001b[A\n",
            "Eval:  75%|███████▌  | 24/32 [00:01<00:00, 17.32it/s]\u001b[A\n",
            "Eval:  81%|████████▏ | 26/32 [00:01<00:00, 17.30it/s]\u001b[A\n",
            "Eval:  88%|████████▊ | 28/32 [00:01<00:00, 17.07it/s]\u001b[A\n",
            "Eval:  94%|█████████▍| 30/32 [00:01<00:00, 17.38it/s]\u001b[A\n",
            "                                                     \u001b[A"
          ]
        },
        {
          "output_type": "stream",
          "name": "stdout",
          "text": [
            "Acc for model which have lower valid loss:  0.9735\n"
          ]
        },
        {
          "output_type": "stream",
          "name": "stderr",
          "text": [
            "Epoch 1:  40%|███▉      | 1384/3463 [03:35<05:22,  6.45batch/s, loss=0.0539]\n",
            "Eval:   0%|          | 0/32 [00:00<?, ?it/s]\u001b[A\n",
            "Eval:   3%|▎         | 1/32 [00:00<00:04,  6.34it/s]\u001b[A\n",
            "Eval:   9%|▉         | 3/32 [00:00<00:02, 12.63it/s]\u001b[A\n",
            "Eval:  16%|█▌        | 5/32 [00:00<00:01, 15.40it/s]\u001b[A\n",
            "Eval:  25%|██▌       | 8/32 [00:00<00:01, 17.28it/s]\u001b[A\n",
            "Eval:  34%|███▍      | 11/32 [00:00<00:01, 18.60it/s]\u001b[A\n",
            "Eval:  41%|████      | 13/32 [00:00<00:01, 18.57it/s]\u001b[A\n",
            "Eval:  50%|█████     | 16/32 [00:00<00:00, 19.26it/s]\u001b[A\n",
            "Eval:  56%|█████▋    | 18/32 [00:01<00:00, 18.66it/s]\u001b[A\n",
            "Eval:  62%|██████▎   | 20/32 [00:01<00:00, 17.96it/s]\u001b[A\n",
            "Eval:  69%|██████▉   | 22/32 [00:01<00:00, 17.72it/s]\u001b[A\n",
            "Eval:  75%|███████▌  | 24/32 [00:01<00:00, 17.26it/s]\u001b[A\n",
            "Eval:  81%|████████▏ | 26/32 [00:01<00:00, 17.22it/s]\u001b[A\n",
            "Eval:  88%|████████▊ | 28/32 [00:01<00:00, 16.99it/s]\u001b[A\n",
            "Eval:  94%|█████████▍| 30/32 [00:01<00:00, 17.36it/s]\u001b[A\n",
            "                                                     \u001b[A"
          ]
        },
        {
          "output_type": "stream",
          "name": "stdout",
          "text": [
            "Acc for model which have lower valid loss:  0.97375\n"
          ]
        },
        {
          "output_type": "stream",
          "name": "stderr",
          "text": [
            "Epoch 1:  60%|█████▉    | 2076/3463 [05:25<03:29,  6.64batch/s, loss=0.0426]\n",
            "Eval:   0%|          | 0/32 [00:00<?, ?it/s]\u001b[A\n",
            "Eval:   3%|▎         | 1/32 [00:00<00:05,  5.99it/s]\u001b[A\n",
            "Eval:   9%|▉         | 3/32 [00:00<00:02, 12.34it/s]\u001b[A\n",
            "Eval:  16%|█▌        | 5/32 [00:00<00:01, 15.19it/s]\u001b[A\n",
            "Eval:  25%|██▌       | 8/32 [00:00<00:01, 17.22it/s]\u001b[A\n",
            "Eval:  34%|███▍      | 11/32 [00:00<00:01, 18.52it/s]\u001b[A\n",
            "Eval:  41%|████      | 13/32 [00:00<00:01, 18.50it/s]\u001b[A\n",
            "Eval:  47%|████▋     | 15/32 [00:00<00:00, 18.90it/s]\u001b[A\n",
            "Eval:  53%|█████▎    | 17/32 [00:00<00:00, 18.67it/s]\u001b[A\n",
            "Eval:  59%|█████▉    | 19/32 [00:01<00:00, 17.97it/s]\u001b[A\n",
            "Eval:  66%|██████▌   | 21/32 [00:01<00:00, 17.59it/s]\u001b[A\n",
            "Eval:  72%|███████▏  | 23/32 [00:01<00:00, 17.12it/s]\u001b[A\n",
            "Eval:  78%|███████▊  | 25/32 [00:01<00:00, 17.03it/s]\u001b[A\n",
            "Eval:  84%|████████▍ | 27/32 [00:01<00:00, 17.08it/s]\u001b[A\n",
            "Eval:  91%|█████████ | 29/32 [00:01<00:00, 16.85it/s]\u001b[A\n",
            "Eval:  97%|█████████▋| 31/32 [00:01<00:00, 17.20it/s]\u001b[A\n",
            "                                                     \u001b[A"
          ]
        },
        {
          "output_type": "stream",
          "name": "stdout",
          "text": [
            "Acc for model which have lower valid loss:  0.97625\n"
          ]
        },
        {
          "output_type": "stream",
          "name": "stderr",
          "text": [
            "Epoch 1:  80%|███████▉  | 2768/3463 [07:14<01:49,  6.37batch/s, loss=0.0355]\n",
            "Eval:   0%|          | 0/32 [00:00<?, ?it/s]\u001b[A\n",
            "Eval:   3%|▎         | 1/32 [00:00<00:05,  6.14it/s]\u001b[A\n",
            "Eval:   9%|▉         | 3/32 [00:00<00:02, 12.42it/s]\u001b[A\n",
            "Eval:  16%|█▌        | 5/32 [00:00<00:01, 15.09it/s]\u001b[A\n",
            "Eval:  22%|██▏       | 7/32 [00:00<00:01, 16.76it/s]\u001b[A\n",
            "Eval:  28%|██▊       | 9/32 [00:00<00:01, 17.44it/s]\u001b[A\n",
            "Eval:  34%|███▍      | 11/32 [00:00<00:01, 18.24it/s]\u001b[A\n",
            "Eval:  41%|████      | 13/32 [00:00<00:01, 18.23it/s]\u001b[A\n",
            "Eval:  50%|█████     | 16/32 [00:00<00:00, 19.09it/s]\u001b[A\n",
            "Eval:  56%|█████▋    | 18/32 [00:01<00:00, 18.47it/s]\u001b[A\n",
            "Eval:  62%|██████▎   | 20/32 [00:01<00:00, 17.76it/s]\u001b[A\n",
            "Eval:  69%|██████▉   | 22/32 [00:01<00:00, 17.51it/s]\u001b[A\n",
            "Eval:  75%|███████▌  | 24/32 [00:01<00:00, 17.12it/s]\u001b[A\n",
            "Eval:  81%|████████▏ | 26/32 [00:01<00:00, 17.03it/s]\u001b[A\n",
            "Eval:  88%|████████▊ | 28/32 [00:01<00:00, 16.90it/s]\u001b[A\n",
            "Eval:  94%|█████████▍| 30/32 [00:01<00:00, 17.24it/s]\u001b[A\n",
            "                                                     \u001b[A"
          ]
        },
        {
          "output_type": "stream",
          "name": "stdout",
          "text": [
            "Acc for model which have lower valid loss:  0.98075\n"
          ]
        },
        {
          "output_type": "stream",
          "name": "stderr",
          "text": [
            "Epoch 1: 100%|█████████▉| 3460/3463 [09:04<00:00,  6.28batch/s, loss=0.00873]\n",
            "Eval:   0%|          | 0/32 [00:00<?, ?it/s]\u001b[A\n",
            "Eval:   3%|▎         | 1/32 [00:00<00:05,  5.97it/s]\u001b[A\n",
            "Eval:   9%|▉         | 3/32 [00:00<00:02, 12.40it/s]\u001b[A\n",
            "Eval:  16%|█▌        | 5/32 [00:00<00:01, 14.95it/s]\u001b[A\n",
            "Eval:  25%|██▌       | 8/32 [00:00<00:01, 17.10it/s]\u001b[A\n",
            "Eval:  31%|███▏      | 10/32 [00:00<00:01, 17.95it/s]\u001b[A\n",
            "Eval:  38%|███▊      | 12/32 [00:00<00:01, 18.10it/s]\u001b[A\n",
            "Eval:  44%|████▍     | 14/32 [00:00<00:00, 18.64it/s]\u001b[A\n",
            "Eval:  50%|█████     | 16/32 [00:00<00:00, 19.03it/s]\u001b[A\n",
            "Eval:  56%|█████▋    | 18/32 [00:01<00:00, 18.42it/s]\u001b[A\n",
            "Eval:  62%|██████▎   | 20/32 [00:01<00:00, 17.74it/s]\u001b[A\n",
            "Eval:  69%|██████▉   | 22/32 [00:01<00:00, 17.54it/s]\u001b[A\n",
            "Eval:  75%|███████▌  | 24/32 [00:01<00:00, 17.11it/s]\u001b[A\n",
            "Eval:  81%|████████▏ | 26/32 [00:01<00:00, 17.12it/s]\u001b[A\n",
            "Eval:  88%|████████▊ | 28/32 [00:01<00:00, 16.92it/s]\u001b[A\n",
            "Eval:  94%|█████████▍| 30/32 [00:01<00:00, 17.25it/s]\u001b[A\n",
            "                                                     \u001b[A"
          ]
        },
        {
          "output_type": "stream",
          "name": "stdout",
          "text": [
            "Acc for model which have lower valid loss:  0.97925\n"
          ]
        },
        {
          "output_type": "stream",
          "name": "stderr",
          "text": [
            "Epoch 1: 100%|██████████| 3463/3463 [09:07<00:00,  6.32batch/s, loss=0.00721]\n",
            "Epoch 2:  20%|█▉        | 692/3463 [01:46<07:15,  6.36batch/s, loss=0.00483]\n",
            "Eval:   0%|          | 0/32 [00:00<?, ?it/s]\u001b[A\n",
            "Eval:   3%|▎         | 1/32 [00:00<00:05,  5.93it/s]\u001b[A\n",
            "Eval:   9%|▉         | 3/32 [00:00<00:02, 12.19it/s]\u001b[A\n",
            "Eval:  16%|█▌        | 5/32 [00:00<00:01, 15.00it/s]\u001b[A\n",
            "Eval:  25%|██▌       | 8/32 [00:00<00:01, 17.17it/s]\u001b[A\n",
            "Eval:  34%|███▍      | 11/32 [00:00<00:01, 18.46it/s]\u001b[A\n",
            "Eval:  41%|████      | 13/32 [00:00<00:01, 18.26it/s]\u001b[A\n",
            "Eval:  47%|████▋     | 15/32 [00:00<00:00, 18.72it/s]\u001b[A\n",
            "Eval:  53%|█████▎    | 17/32 [00:00<00:00, 18.61it/s]\u001b[A\n",
            "Eval:  59%|█████▉    | 19/32 [00:01<00:00, 18.01it/s]\u001b[A\n",
            "Eval:  66%|██████▌   | 21/32 [00:01<00:00, 17.69it/s]\u001b[A\n",
            "Eval:  72%|███████▏  | 23/32 [00:01<00:00, 17.28it/s]\u001b[A\n",
            "Eval:  78%|███████▊  | 25/32 [00:01<00:00, 17.18it/s]\u001b[A\n",
            "Eval:  84%|████████▍ | 27/32 [00:01<00:00, 17.12it/s]\u001b[A\n",
            "Eval:  91%|█████████ | 29/32 [00:01<00:00, 16.85it/s]\u001b[A\n",
            "Eval:  97%|█████████▋| 31/32 [00:01<00:00, 17.21it/s]\u001b[A\n",
            "                                                     \u001b[A"
          ]
        },
        {
          "output_type": "stream",
          "name": "stdout",
          "text": [
            "Acc for model which have lower valid loss:  0.9775\n"
          ]
        },
        {
          "output_type": "stream",
          "name": "stderr",
          "text": [
            "Epoch 2:  40%|███▉      | 1384/3463 [03:36<05:17,  6.54batch/s, loss=0.0155]\n",
            "Eval:   0%|          | 0/32 [00:00<?, ?it/s]\u001b[A\n",
            "Eval:   3%|▎         | 1/32 [00:00<00:04,  6.24it/s]\u001b[A\n",
            "Eval:   9%|▉         | 3/32 [00:00<00:02, 12.62it/s]\u001b[A\n",
            "Eval:  16%|█▌        | 5/32 [00:00<00:01, 15.38it/s]\u001b[A\n",
            "Eval:  25%|██▌       | 8/32 [00:00<00:01, 17.44it/s]\u001b[A\n",
            "Eval:  34%|███▍      | 11/32 [00:00<00:01, 18.72it/s]\u001b[A\n",
            "Eval:  41%|████      | 13/32 [00:00<00:01, 18.65it/s]\u001b[A\n",
            "Eval:  47%|████▋     | 15/32 [00:00<00:00, 18.98it/s]\u001b[A\n",
            "Eval:  53%|█████▎    | 17/32 [00:00<00:00, 18.79it/s]\u001b[A\n",
            "Eval:  59%|█████▉    | 19/32 [00:01<00:00, 18.18it/s]\u001b[A\n",
            "Eval:  66%|██████▌   | 21/32 [00:01<00:00, 17.89it/s]\u001b[A\n",
            "Eval:  72%|███████▏  | 23/32 [00:01<00:00, 17.43it/s]\u001b[A\n",
            "Eval:  78%|███████▊  | 25/32 [00:01<00:00, 17.28it/s]\u001b[A\n",
            "Eval:  84%|████████▍ | 27/32 [00:01<00:00, 17.24it/s]\u001b[A\n",
            "Eval:  91%|█████████ | 29/32 [00:01<00:00, 17.04it/s]\u001b[A\n",
            "Eval:  97%|█████████▋| 31/32 [00:01<00:00, 17.42it/s]\u001b[A\n",
            "                                                     \u001b[A"
          ]
        },
        {
          "output_type": "stream",
          "name": "stdout",
          "text": [
            "Acc for model which have lower valid loss:  0.97925\n"
          ]
        },
        {
          "output_type": "stream",
          "name": "stderr",
          "text": [
            "Epoch 2:  60%|█████▉    | 2076/3463 [05:25<03:36,  6.41batch/s, loss=0.0619]\n",
            "Eval:   0%|          | 0/32 [00:00<?, ?it/s]\u001b[A\n",
            "Eval:   3%|▎         | 1/32 [00:00<00:05,  6.04it/s]\u001b[A\n",
            "Eval:   9%|▉         | 3/32 [00:00<00:02, 12.42it/s]\u001b[A\n",
            "Eval:  16%|█▌        | 5/32 [00:00<00:01, 15.32it/s]\u001b[A\n",
            "Eval:  22%|██▏       | 7/32 [00:00<00:01, 16.97it/s]\u001b[A\n",
            "Eval:  28%|██▊       | 9/32 [00:00<00:01, 17.78it/s]\u001b[A\n",
            "Eval:  38%|███▊      | 12/32 [00:00<00:01, 18.72it/s]\u001b[A\n",
            "Eval:  47%|████▋     | 15/32 [00:00<00:00, 19.39it/s]\u001b[A\n",
            "Eval:  53%|█████▎    | 17/32 [00:00<00:00, 19.17it/s]\u001b[A\n",
            "Eval:  59%|█████▉    | 19/32 [00:01<00:00, 18.40it/s]\u001b[A\n",
            "Eval:  66%|██████▌   | 21/32 [00:01<00:00, 17.96it/s]\u001b[A\n",
            "Eval:  72%|███████▏  | 23/32 [00:01<00:00, 17.47it/s]\u001b[A\n",
            "Eval:  78%|███████▊  | 25/32 [00:01<00:00, 17.37it/s]\u001b[A\n",
            "Eval:  84%|████████▍ | 27/32 [00:01<00:00, 17.36it/s]\u001b[A\n",
            "Eval:  91%|█████████ | 29/32 [00:01<00:00, 17.15it/s]\u001b[A\n",
            "Eval:  97%|█████████▋| 31/32 [00:01<00:00, 17.52it/s]\u001b[A\n",
            "                                                     \u001b[A"
          ]
        },
        {
          "output_type": "stream",
          "name": "stdout",
          "text": [
            "Acc for model which have lower valid loss:  0.97875\n"
          ]
        },
        {
          "output_type": "stream",
          "name": "stderr",
          "text": [
            "Epoch 2:  80%|███████▉  | 2768/3463 [07:14<01:46,  6.53batch/s, loss=0.0431]\n",
            "Eval:   0%|          | 0/32 [00:00<?, ?it/s]\u001b[A\n",
            "Eval:   3%|▎         | 1/32 [00:00<00:04,  6.30it/s]\u001b[A\n",
            "Eval:  12%|█▎        | 4/32 [00:00<00:01, 14.45it/s]\u001b[A\n",
            "Eval:  19%|█▉        | 6/32 [00:00<00:01, 16.13it/s]\u001b[A\n",
            "Eval:  25%|██▌       | 8/32 [00:00<00:01, 17.11it/s]\u001b[A\n",
            "Eval:  34%|███▍      | 11/32 [00:00<00:01, 18.52it/s]\u001b[A\n",
            "Eval:  41%|████      | 13/32 [00:00<00:01, 18.60it/s]\u001b[A\n",
            "Eval:  50%|█████     | 16/32 [00:00<00:00, 19.44it/s]\u001b[A\n",
            "Eval:  56%|█████▋    | 18/32 [00:01<00:00, 18.73it/s]\u001b[A\n",
            "Eval:  62%|██████▎   | 20/32 [00:01<00:00, 18.15it/s]\u001b[A\n",
            "Eval:  69%|██████▉   | 22/32 [00:01<00:00, 17.77it/s]\u001b[A\n",
            "Eval:  75%|███████▌  | 24/32 [00:01<00:00, 17.37it/s]\u001b[A\n",
            "Eval:  81%|████████▏ | 26/32 [00:01<00:00, 17.33it/s]\u001b[A\n",
            "Eval:  88%|████████▊ | 28/32 [00:01<00:00, 17.10it/s]\u001b[A\n",
            "Eval:  94%|█████████▍| 30/32 [00:01<00:00, 17.50it/s]\u001b[A\n",
            "                                                     \u001b[A"
          ]
        },
        {
          "output_type": "stream",
          "name": "stdout",
          "text": [
            "Acc for model which have lower valid loss:  0.97925\n"
          ]
        },
        {
          "output_type": "stream",
          "name": "stderr",
          "text": [
            "Epoch 2: 100%|█████████▉| 3460/3463 [09:03<00:00,  6.12batch/s, loss=0.0303]\n",
            "Eval:   0%|          | 0/32 [00:00<?, ?it/s]\u001b[A\n",
            "Eval:   3%|▎         | 1/32 [00:00<00:04,  6.47it/s]\u001b[A\n",
            "Eval:   9%|▉         | 3/32 [00:00<00:02, 12.77it/s]\u001b[A\n",
            "Eval:  16%|█▌        | 5/32 [00:00<00:01, 15.52it/s]\u001b[A\n",
            "Eval:  25%|██▌       | 8/32 [00:00<00:01, 17.51it/s]\u001b[A\n",
            "Eval:  34%|███▍      | 11/32 [00:00<00:01, 18.72it/s]\u001b[A\n",
            "Eval:  41%|████      | 13/32 [00:00<00:01, 18.70it/s]\u001b[A\n",
            "Eval:  50%|█████     | 16/32 [00:00<00:00, 19.49it/s]\u001b[A\n",
            "Eval:  56%|█████▋    | 18/32 [00:01<00:00, 18.81it/s]\u001b[A\n",
            "Eval:  62%|██████▎   | 20/32 [00:01<00:00, 18.13it/s]\u001b[A\n",
            "Eval:  69%|██████▉   | 22/32 [00:01<00:00, 17.80it/s]\u001b[A\n",
            "Eval:  75%|███████▌  | 24/32 [00:01<00:00, 17.44it/s]\u001b[A\n",
            "Eval:  81%|████████▏ | 26/32 [00:01<00:00, 17.30it/s]\u001b[A\n",
            "Eval:  88%|████████▊ | 28/32 [00:01<00:00, 17.03it/s]\u001b[A\n",
            "Eval:  94%|█████████▍| 30/32 [00:01<00:00, 17.42it/s]\u001b[A\n",
            "                                                     \u001b[A"
          ]
        },
        {
          "output_type": "stream",
          "name": "stdout",
          "text": [
            "Acc for model which have lower valid loss:  0.9795\n"
          ]
        },
        {
          "output_type": "stream",
          "name": "stderr",
          "text": [
            "Epoch 2: 100%|██████████| 3463/3463 [09:06<00:00,  6.33batch/s, loss=0.0845]\n",
            "Epoch 3:  20%|█▉        | 692/3463 [01:46<07:20,  6.29batch/s, loss=0.0903]\n",
            "Eval:   0%|          | 0/32 [00:00<?, ?it/s]\u001b[A\n",
            "Eval:   3%|▎         | 1/32 [00:00<00:04,  6.36it/s]\u001b[A\n",
            "Eval:   9%|▉         | 3/32 [00:00<00:02, 12.62it/s]\u001b[A\n",
            "Eval:  16%|█▌        | 5/32 [00:00<00:01, 15.38it/s]\u001b[A\n",
            "Eval:  25%|██▌       | 8/32 [00:00<00:01, 17.33it/s]\u001b[A\n",
            "Eval:  31%|███▏      | 10/32 [00:00<00:01, 17.94it/s]\u001b[A\n",
            "Eval:  38%|███▊      | 12/32 [00:00<00:01, 18.19it/s]\u001b[A\n",
            "Eval:  44%|████▍     | 14/32 [00:00<00:00, 18.63it/s]\u001b[A\n",
            "Eval:  50%|█████     | 16/32 [00:00<00:00, 19.01it/s]\u001b[A\n",
            "Eval:  56%|█████▋    | 18/32 [00:01<00:00, 18.38it/s]\u001b[A\n",
            "Eval:  62%|██████▎   | 20/32 [00:01<00:00, 17.74it/s]\u001b[A\n",
            "Eval:  69%|██████▉   | 22/32 [00:01<00:00, 17.49it/s]\u001b[A\n",
            "Eval:  75%|███████▌  | 24/32 [00:01<00:00, 17.19it/s]\u001b[A\n",
            "Eval:  81%|████████▏ | 26/32 [00:01<00:00, 17.17it/s]\u001b[A\n",
            "Eval:  88%|████████▊ | 28/32 [00:01<00:00, 16.92it/s]\u001b[A\n",
            "Eval:  94%|█████████▍| 30/32 [00:01<00:00, 17.26it/s]\u001b[A\n",
            "                                                     \u001b[A"
          ]
        },
        {
          "output_type": "stream",
          "name": "stdout",
          "text": [
            "Acc for model which have lower valid loss:  0.98075\n"
          ]
        },
        {
          "output_type": "stream",
          "name": "stderr",
          "text": [
            "Epoch 3:  40%|███▉      | 1384/3463 [03:35<05:14,  6.61batch/s, loss=0.0368]\n",
            "Eval:   0%|          | 0/32 [00:00<?, ?it/s]\u001b[A\n",
            "Eval:   3%|▎         | 1/32 [00:00<00:05,  6.00it/s]\u001b[A\n",
            "Eval:  12%|█▎        | 4/32 [00:00<00:01, 14.28it/s]\u001b[A\n",
            "Eval:  19%|█▉        | 6/32 [00:00<00:01, 16.02it/s]\u001b[A\n",
            "Eval:  25%|██▌       | 8/32 [00:00<00:01, 17.12it/s]\u001b[A\n",
            "Eval:  34%|███▍      | 11/32 [00:00<00:01, 18.53it/s]\u001b[A\n",
            "Eval:  41%|████      | 13/32 [00:00<00:01, 18.50it/s]\u001b[A\n",
            "Eval:  50%|█████     | 16/32 [00:00<00:00, 19.30it/s]\u001b[A\n",
            "Eval:  56%|█████▋    | 18/32 [00:01<00:00, 18.66it/s]\u001b[A\n",
            "Eval:  62%|██████▎   | 20/32 [00:01<00:00, 18.04it/s]\u001b[A\n",
            "Eval:  69%|██████▉   | 22/32 [00:01<00:00, 17.80it/s]\u001b[A\n",
            "Eval:  75%|███████▌  | 24/32 [00:01<00:00, 17.36it/s]\u001b[A\n",
            "Eval:  81%|████████▏ | 26/32 [00:01<00:00, 17.38it/s]\u001b[A\n",
            "Eval:  88%|████████▊ | 28/32 [00:01<00:00, 17.22it/s]\u001b[A\n",
            "Eval:  94%|█████████▍| 30/32 [00:01<00:00, 17.59it/s]\u001b[A\n",
            "                                                     \u001b[A"
          ]
        },
        {
          "output_type": "stream",
          "name": "stdout",
          "text": [
            "Acc for model which have lower valid loss:  0.9815\n"
          ]
        },
        {
          "output_type": "stream",
          "name": "stderr",
          "text": [
            "Epoch 3:  60%|█████▉    | 2076/3463 [05:24<03:35,  6.45batch/s, loss=0.057]  \n",
            "Eval:   0%|          | 0/32 [00:00<?, ?it/s]\u001b[A\n",
            "Eval:   3%|▎         | 1/32 [00:00<00:05,  6.11it/s]\u001b[A\n",
            "Eval:  12%|█▎        | 4/32 [00:00<00:01, 14.26it/s]\u001b[A\n",
            "Eval:  19%|█▉        | 6/32 [00:00<00:01, 16.08it/s]\u001b[A\n",
            "Eval:  25%|██▌       | 8/32 [00:00<00:01, 17.20it/s]\u001b[A\n",
            "Eval:  34%|███▍      | 11/32 [00:00<00:01, 18.71it/s]\u001b[A\n",
            "Eval:  41%|████      | 13/32 [00:00<00:01, 18.73it/s]\u001b[A\n",
            "Eval:  50%|█████     | 16/32 [00:00<00:00, 19.52it/s]\u001b[A\n",
            "Eval:  56%|█████▋    | 18/32 [00:01<00:00, 18.87it/s]\u001b[A\n",
            "Eval:  62%|██████▎   | 20/32 [00:01<00:00, 18.18it/s]\u001b[A\n",
            "Eval:  69%|██████▉   | 22/32 [00:01<00:00, 17.84it/s]\u001b[A\n",
            "Eval:  75%|███████▌  | 24/32 [00:01<00:00, 17.51it/s]\u001b[A\n",
            "Eval:  81%|████████▏ | 26/32 [00:01<00:00, 17.46it/s]\u001b[A\n",
            "Eval:  88%|████████▊ | 28/32 [00:01<00:00, 17.10it/s]\u001b[A\n",
            "Eval:  94%|█████████▍| 30/32 [00:01<00:00, 17.50it/s]\u001b[A\n",
            "                                                     \u001b[A"
          ]
        },
        {
          "output_type": "stream",
          "name": "stdout",
          "text": [
            "Acc for model which have lower valid loss:  0.98\n"
          ]
        },
        {
          "output_type": "stream",
          "name": "stderr",
          "text": [
            "Epoch 3:  80%|███████▉  | 2768/3463 [07:13<01:50,  6.31batch/s, loss=0.0514]\n",
            "Eval:   0%|          | 0/32 [00:00<?, ?it/s]\u001b[A\n",
            "Eval:   3%|▎         | 1/32 [00:00<00:05,  5.80it/s]\u001b[A\n",
            "Eval:  12%|█▎        | 4/32 [00:00<00:02, 13.91it/s]\u001b[A\n",
            "Eval:  19%|█▉        | 6/32 [00:00<00:01, 15.78it/s]\u001b[A\n",
            "Eval:  25%|██▌       | 8/32 [00:00<00:01, 16.85it/s]\u001b[A\n",
            "Eval:  34%|███▍      | 11/32 [00:00<00:01, 18.41it/s]\u001b[A\n",
            "Eval:  41%|████      | 13/32 [00:00<00:01, 18.35it/s]\u001b[A\n",
            "Eval:  50%|█████     | 16/32 [00:00<00:00, 19.26it/s]\u001b[A\n",
            "Eval:  56%|█████▋    | 18/32 [00:01<00:00, 18.66it/s]\u001b[A\n",
            "Eval:  62%|██████▎   | 20/32 [00:01<00:00, 18.03it/s]\u001b[A\n",
            "Eval:  69%|██████▉   | 22/32 [00:01<00:00, 17.69it/s]\u001b[A\n",
            "Eval:  75%|███████▌  | 24/32 [00:01<00:00, 17.28it/s]\u001b[A\n",
            "Eval:  81%|████████▏ | 26/32 [00:01<00:00, 17.08it/s]\u001b[A\n",
            "Eval:  88%|████████▊ | 28/32 [00:01<00:00, 16.93it/s]\u001b[A\n",
            "Eval:  94%|█████████▍| 30/32 [00:01<00:00, 17.38it/s]\u001b[A\n",
            "                                                     \u001b[A"
          ]
        },
        {
          "output_type": "stream",
          "name": "stdout",
          "text": [
            "Acc for model which have lower valid loss:  0.982\n"
          ]
        },
        {
          "output_type": "stream",
          "name": "stderr",
          "text": [
            "Epoch 3: 100%|█████████▉| 3460/3463 [09:02<00:00,  6.37batch/s, loss=0.0612]\n",
            "Eval:   0%|          | 0/32 [00:00<?, ?it/s]\u001b[A\n",
            "Eval:   3%|▎         | 1/32 [00:00<00:05,  6.16it/s]\u001b[A\n",
            "Eval:  12%|█▎        | 4/32 [00:00<00:01, 14.33it/s]\u001b[A\n",
            "Eval:  19%|█▉        | 6/32 [00:00<00:01, 15.99it/s]\u001b[A\n",
            "Eval:  25%|██▌       | 8/32 [00:00<00:01, 17.10it/s]\u001b[A\n",
            "Eval:  34%|███▍      | 11/32 [00:00<00:01, 18.61it/s]\u001b[A\n",
            "Eval:  41%|████      | 13/32 [00:00<00:01, 18.65it/s]\u001b[A\n",
            "Eval:  50%|█████     | 16/32 [00:00<00:00, 19.46it/s]\u001b[A\n",
            "Eval:  56%|█████▋    | 18/32 [00:01<00:00, 18.76it/s]\u001b[A\n",
            "Eval:  62%|██████▎   | 20/32 [00:01<00:00, 18.08it/s]\u001b[A\n",
            "Eval:  69%|██████▉   | 22/32 [00:01<00:00, 17.74it/s]\u001b[A\n",
            "Eval:  75%|███████▌  | 24/32 [00:01<00:00, 17.35it/s]\u001b[A\n",
            "Eval:  81%|████████▏ | 26/32 [00:01<00:00, 17.37it/s]\u001b[A\n",
            "Eval:  88%|████████▊ | 28/32 [00:01<00:00, 17.05it/s]\u001b[A\n",
            "Eval:  94%|█████████▍| 30/32 [00:01<00:00, 17.45it/s]\u001b[A\n",
            "                                                     \u001b[A"
          ]
        },
        {
          "output_type": "stream",
          "name": "stdout",
          "text": [
            "Acc for model which have lower valid loss:  0.9805\n"
          ]
        },
        {
          "output_type": "stream",
          "name": "stderr",
          "text": [
            "Epoch 3: 100%|██████████| 3463/3463 [09:06<00:00,  6.34batch/s, loss=0.00789]\n"
          ]
        }
      ]
    },
    {
      "cell_type": "code",
      "source": [
        "import pandas as pd\n",
        "test_df = pd.read_csv('test_no_label.csv')"
      ],
      "metadata": {
        "id": "P95gtlnurvgX"
      },
      "execution_count": 46,
      "outputs": []
    },
    {
      "cell_type": "code",
      "source": [
        "test_dataset = test_df['Id']"
      ],
      "metadata": {
        "id": "cLDzC10ErvgX"
      },
      "execution_count": 47,
      "outputs": []
    },
    {
      "cell_type": "code",
      "source": [
        "def make_id_file_test(tokenizer, test_dataset):\n",
        "    data_strings = []\n",
        "    id_file_data = [tokenizer.encode(sent.lower()) for sent in test_dataset]\n",
        "    for item in id_file_data:\n",
        "        data_strings.append(' '.join([str(k) for k in item]))\n",
        "    return data_strings"
      ],
      "metadata": {
        "id": "jnt693N0rvgX"
      },
      "execution_count": 48,
      "outputs": []
    },
    {
      "cell_type": "code",
      "source": [
        "test = make_id_file_test(tokenizer, test_dataset)"
      ],
      "metadata": {
        "id": "7C5PpXtlrvgY"
      },
      "execution_count": 49,
      "outputs": []
    },
    {
      "cell_type": "code",
      "source": [
        "test[:10]"
      ],
      "metadata": {
        "id": "1aqse7SHrvgY",
        "outputId": "414dd31e-2477-44c2-c239-b2dce4372530",
        "colab": {
          "base_uri": "https://localhost:8080/"
        }
      },
      "execution_count": 50,
      "outputs": [
        {
          "output_type": "execute_result",
          "data": {
            "text/plain": [
              "['101 2009 1005 1055 1037 2878 2047 3325 1998 2047 26389 2169 2051 2017 2175 1012 102',\n",
              " '101 2061 15640 2013 2019 2214 5440 1012 102',\n",
              " '101 2009 2003 1996 2087 14469 7273 1999 1996 3028 1012 102',\n",
              " '101 2079 2025 3696 1037 10084 2007 2122 2111 1012 102',\n",
              " '101 1045 2001 6091 1998 2016 2081 2033 2514 2061 6625 1998 6160 1012 102',\n",
              " '101 1996 2069 2518 2057 2363 2008 2001 2980 2001 1996 4157 1012 102',\n",
              " '101 2053 1010 2025 1996 3924 2012 2004 2226 1010 1996 3924 1999 3502 2152 1012 102',\n",
              " '101 2027 3288 2009 2041 2392 2005 2017 1998 2024 2200 14044 1012 102',\n",
              " '101 4606 1996 12043 2106 1050 1005 1056 2130 2113 2129 2000 2147 1996 3274 1012 102',\n",
              " '101 2027 2031 2019 6581 4989 1997 25025 2015 2000 5454 2013 1012 102']"
            ]
          },
          "metadata": {},
          "execution_count": 50
        }
      ]
    },
    {
      "cell_type": "code",
      "source": [
        "class SentimentTestDataset(object):\n",
        "    def __init__(self, tokenizer, test):\n",
        "        self.tokenizer = tokenizer\n",
        "        self.data = []\n",
        "\n",
        "        for sent in test:\n",
        "            self.data += [self._cast_to_int(sent.strip().split())]\n",
        "\n",
        "    def _cast_to_int(self, sample):\n",
        "        return [int(word_id) for word_id in sample]\n",
        "\n",
        "    def __len__(self):\n",
        "        return len(self.data)\n",
        "\n",
        "    def __getitem__(self, index):\n",
        "        sample = self.data[index]\n",
        "        return np.array(sample)"
      ],
      "metadata": {
        "id": "cZi14gnnrvgY"
      },
      "execution_count": 51,
      "outputs": []
    },
    {
      "cell_type": "code",
      "source": [
        "test_dataset = SentimentTestDataset(tokenizer, test)"
      ],
      "metadata": {
        "id": "erHjGE9rrvgY"
      },
      "execution_count": 52,
      "outputs": []
    },
    {
      "cell_type": "code",
      "source": [
        "'''def collate_fn_style_test(samples):\n",
        "    input_ids = samples\n",
        "    max_len = max(len(input_id) for input_id in input_ids)\n",
        "    sorted_indices = np.argsort([len(input_id) for input_id in input_ids])[::-1]\n",
        "    attention_mask = torch.tensor(\n",
        "        [[1] * len(input_ids[index]) + [0] * (max_len - len(input_ids[index])) for index in\n",
        "         sorted_indices])\n",
        "    input_ids = pad_sequence([torch.tensor(input_ids[index]) for index in sorted_indices],\n",
        "                             batch_first=True)\n",
        "    token_type_ids = torch.tensor([[0] * len(input_ids[index]) for index in sorted_indices])\n",
        "    position_ids = torch.tensor([list(range(len(input_ids[index]))) for index in sorted_indices])\n",
        "\n",
        "    return input_ids, attention_mask, token_type_ids, position_ids'''\n",
        "def collate_fn_style_test(samples):\n",
        "    input_ids = samples\n",
        "    max_len = max(len(input_id) for input_id in input_ids)\n",
        "    #sorted_indices = np.array([len(input_id) for input_id in input_ids])  # index가 정렬되서, \n",
        "    attention_mask = torch.tensor(\n",
        "        [[1] * len(input_id) + [0] * (max_len - len(input_id)) for input_id in\n",
        "         input_ids])\n",
        "    input_ids = pad_sequence([torch.tensor(input_id) for input_id in input_ids],\n",
        "                             batch_first=True)\n",
        "    token_type_ids = torch.tensor([[0] * len(input_id) for input_id in input_ids])\n",
        "    position_ids = torch.tensor([list(range(len(input_id))) for input_id in input_ids])\n",
        "\n",
        "    return input_ids, attention_mask, token_type_ids, position_ids"
      ],
      "metadata": {
        "id": "-XGRJt9T5E6q"
      },
      "execution_count": 53,
      "outputs": []
    },
    {
      "cell_type": "code",
      "source": [
        "test_batch_size = 32\n",
        "test_loader = torch.utils.data.DataLoader(test_dataset, batch_size=test_batch_size,\n",
        "                                          shuffle=False, collate_fn=collate_fn_style_test,\n",
        "                                          num_workers=2)"
      ],
      "metadata": {
        "id": "gZ0l1HparvgZ"
      },
      "execution_count": 54,
      "outputs": []
    },
    {
      "cell_type": "code",
      "source": [
        "with torch.no_grad():\n",
        "    model.eval()\n",
        "    predictions = []\n",
        "    for input_ids, attention_mask, token_type_ids, position_ids in tqdm(test_loader,\n",
        "                                                                        desc='Test',\n",
        "                                                                        position=1,\n",
        "                                                                        leave=None):\n",
        "\n",
        "        input_ids = input_ids.to(device)\n",
        "        attention_mask = attention_mask.to(device)\n",
        "        token_type_ids = token_type_ids.to(device)\n",
        "        position_ids = position_ids.to(device)\n",
        "        output = model(input_ids=input_ids,\n",
        "                       attention_mask=attention_mask,\n",
        "                       token_type_ids=token_type_ids,\n",
        "                       position_ids=position_ids)\n",
        "        logits = output.logits\n",
        "        batch_predictions = [0 if example[0] > example[1] else 1 for example in logits]\n",
        "        predictions += batch_predictions"
      ],
      "metadata": {
        "id": "XoSHTbJUrvgZ",
        "outputId": "18dd7cf3-8a4e-4943-c12c-3af52c7813ae",
        "colab": {
          "base_uri": "https://localhost:8080/"
        }
      },
      "execution_count": 55,
      "outputs": [
        {
          "output_type": "stream",
          "name": "stderr",
          "text": [
            "\n",
            "Test:   0%|          | 0/32 [00:00<?, ?it/s]\u001b[A\n",
            "Test:   3%|▎         | 1/32 [00:00<00:03,  7.91it/s]\u001b[A\n",
            "Test:  22%|██▏       | 7/32 [00:00<00:00, 33.14it/s]\u001b[A\n",
            "Test:  41%|████      | 13/32 [00:00<00:00, 42.16it/s]\u001b[A\n",
            "Test:  59%|█████▉    | 19/32 [00:00<00:00, 47.54it/s]\u001b[A\n",
            "Test:  78%|███████▊  | 25/32 [00:00<00:00, 51.61it/s]\u001b[A\n",
            "Test:  97%|█████████▋| 31/32 [00:00<00:00, 53.41it/s]\u001b[A\n",
            "                                                     \u001b[A"
          ]
        }
      ]
    },
    {
      "cell_type": "code",
      "source": [
        "test_df['Category'] = predictions"
      ],
      "metadata": {
        "id": "tGO3aS-VrvgZ"
      },
      "execution_count": 56,
      "outputs": []
    },
    {
      "cell_type": "code",
      "source": [
        "test_df['Category']"
      ],
      "metadata": {
        "colab": {
          "base_uri": "https://localhost:8080/"
        },
        "id": "kcWY8jEse5y4",
        "outputId": "18421db4-a240-43ff-8808-98f311193c1c"
      },
      "execution_count": 57,
      "outputs": [
        {
          "output_type": "execute_result",
          "data": {
            "text/plain": [
              "0      1\n",
              "1      0\n",
              "2      1\n",
              "3      0\n",
              "4      1\n",
              "      ..\n",
              "995    1\n",
              "996    1\n",
              "997    0\n",
              "998    0\n",
              "999    0\n",
              "Name: Category, Length: 1000, dtype: int64"
            ]
          },
          "metadata": {},
          "execution_count": 57
        }
      ]
    },
    {
      "cell_type": "code",
      "source": [
        "test_df.to_csv('submission.csv', index=False)"
      ],
      "metadata": {
        "id": "NtlqYC0ykksd"
      },
      "execution_count": 58,
      "outputs": []
    },
    {
      "cell_type": "code",
      "source": [
        ""
      ],
      "metadata": {
        "id": "0nMhBYRe7rB6"
      },
      "execution_count": null,
      "outputs": []
    }
  ]
}